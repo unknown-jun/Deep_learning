{
 "cells": [
  {
   "cell_type": "code",
   "execution_count": 1,
   "id": "reserved-geometry",
   "metadata": {},
   "outputs": [
    {
     "ename": "ValueError",
     "evalue": "invalid literal for int() with base 10: ''",
     "output_type": "error",
     "traceback": [
      "\u001b[1;31m---------------------------------------------------------------------------\u001b[0m",
      "\u001b[1;31mValueError\u001b[0m                                Traceback (most recent call last)",
      "\u001b[1;32m<ipython-input-1-3d440b3915ec>\u001b[0m in \u001b[0;36m<module>\u001b[1;34m\u001b[0m\n\u001b[0;32m     14\u001b[0m     \u001b[1;32mreturn\u001b[0m \u001b[0mfile_name\u001b[0m\u001b[1;33m\u001b[0m\u001b[1;33m\u001b[0m\u001b[0m\n\u001b[0;32m     15\u001b[0m \u001b[1;33m\u001b[0m\u001b[0m\n\u001b[1;32m---> 16\u001b[1;33m \u001b[0mprint\u001b[0m \u001b[1;33m(\u001b[0m\u001b[0mimage_load\u001b[0m\u001b[1;33m(\u001b[0m\u001b[0mtest_image\u001b[0m\u001b[1;33m)\u001b[0m \u001b[1;33m)\u001b[0m\u001b[1;33m\u001b[0m\u001b[1;33m\u001b[0m\u001b[0m\n\u001b[0m",
      "\u001b[1;32m<ipython-input-1-3d440b3915ec>\u001b[0m in \u001b[0;36mimage_load\u001b[1;34m(path)\u001b[0m\n\u001b[0;32m      8\u001b[0m     \u001b[0mfile_name\u001b[0m\u001b[1;33m=\u001b[0m\u001b[1;33m[\u001b[0m\u001b[1;33m]\u001b[0m\u001b[1;33m\u001b[0m\u001b[1;33m\u001b[0m\u001b[0m\n\u001b[0;32m      9\u001b[0m     \u001b[1;32mfor\u001b[0m  \u001b[0mi\u001b[0m  \u001b[1;32min\u001b[0m  \u001b[0mfile_list\u001b[0m\u001b[1;33m:\u001b[0m\u001b[1;33m\u001b[0m\u001b[1;33m\u001b[0m\u001b[0m\n\u001b[1;32m---> 10\u001b[1;33m         \u001b[0ma\u001b[0m \u001b[1;33m=\u001b[0m \u001b[0mint\u001b[0m\u001b[1;33m(\u001b[0m \u001b[0mre\u001b[0m\u001b[1;33m.\u001b[0m\u001b[0msub\u001b[0m\u001b[1;33m(\u001b[0m\u001b[1;34m'[^0-9]'\u001b[0m\u001b[1;33m,\u001b[0m\u001b[1;34m''\u001b[0m\u001b[1;33m,\u001b[0m \u001b[0mi\u001b[0m\u001b[1;33m)\u001b[0m \u001b[1;33m)\u001b[0m   \u001b[1;31m# i 가 숫자가 아니면 null 로 변경해라 ~\u001b[0m\u001b[1;33m\u001b[0m\u001b[1;33m\u001b[0m\u001b[0m\n\u001b[0m\u001b[0;32m     11\u001b[0m         \u001b[0mfile_name\u001b[0m\u001b[1;33m.\u001b[0m\u001b[0mappend\u001b[0m\u001b[1;33m(\u001b[0m\u001b[0ma\u001b[0m\u001b[1;33m)\u001b[0m\u001b[1;33m\u001b[0m\u001b[1;33m\u001b[0m\u001b[0m\n\u001b[0;32m     12\u001b[0m     \u001b[0mfile_name\u001b[0m\u001b[1;33m.\u001b[0m\u001b[0msort\u001b[0m\u001b[1;33m(\u001b[0m\u001b[1;33m)\u001b[0m \u001b[1;31m# 정렬작업\u001b[0m\u001b[1;33m\u001b[0m\u001b[1;33m\u001b[0m\u001b[0m\n",
      "\u001b[1;31mValueError\u001b[0m: invalid literal for int() with base 10: ''"
     ]
    }
   ],
   "source": [
    "import os \n",
    "import re\n",
    "\n",
    "test_image = 'C:\\\\Users\\\\Jun\\\\Downloads\\\\resize\\\\test'\n",
    "\n",
    "def image_load(path):\n",
    "    file_list = os.listdir(path)\n",
    "    file_name=[]\n",
    "    for  i  in  file_list:\n",
    "        a = int( re.sub('[^0-9]','', i) )   # i 가 숫자가 아니면 null 로 변경해라 ~\n",
    "        file_name.append(a)\n",
    "    file_name.sort() # 정렬작업 \n",
    "    \n",
    "    return file_name\n",
    "\n",
    "print (image_load(test_image) )"
   ]
  },
  {
   "cell_type": "code",
   "execution_count": null,
   "id": "dried-orchestra",
   "metadata": {},
   "outputs": [],
   "source": [
    "# 예제 4. 위에서 출력된 결과를 아래와 같이 .jpg를 붙여서 출력되게 하시오\n",
    "\n",
    "import os \n",
    "import re\n",
    "\n",
    "test_image = 'C:\\\\Users\\\\Jun\\\\Downloads\\\\resize\\\\test'\n",
    "\n",
    "def image_load(path):\n",
    "    file_list = os.listdir(path)\n",
    "    file_name = []\n",
    "    for i in file_list:\n",
    "        a = int(re.sub('[^0-9]', '', i ))  #^ : not  #i가 숫자가 아니면 ''(null) 로 바꿔주는 전처리 코드\n",
    "        file_name.append(a)\n",
    "    file_name.sort()\n",
    "    \n",
    "    file_res=[]\n",
    "    for j in file_name:\n",
    "        file_res.append('%d.jpg' %j)\n",
    "        \n",
    "    return file_res\n",
    "\n",
    "print (image_load(test_image) )"
   ]
  },
  {
   "cell_type": "code",
   "execution_count": null,
   "id": "deadly-ebony",
   "metadata": {
    "scrolled": true
   },
   "outputs": [],
   "source": [
    "# 예제 5. 이미지 이름 앞에 절대경로가 아래처럼 붙게 하시오\n",
    "# ['C:\\\\Users\\\\Jun\\\\Downloads\\\\test\\\\1.jpg', 'C:\\\\Users\\\\Jun\\\\Downloads\\\\test\\\\2.jpg', 'C:\\\\Users\\\\Jun\\\\Downloads\\\\test\\\\3.jpg'...]\n",
    "import os \n",
    "import re\n",
    "\n",
    "test_image = 'C:\\\\Users\\\\Jun\\\\Downloads\\\\resize\\\\test'\n",
    "\n",
    "def image_load(path):\n",
    "    file_list = os.listdir(path)\n",
    "    file_name = []\n",
    "    for i in file_list:\n",
    "        a = int(re.sub('[^0-9]', '', i ))  #^ : not  #i가 숫자가 아니면 ''(null) 로 바꿔주는 전처리 코드\n",
    "        file_name.append(a)\n",
    "    file_name.sort()\n",
    "    file_res=[]\n",
    "    for j in file_name:\n",
    "        file_res.append('%s\\\\%d.jpg' %(path,j))\n",
    "        \n",
    "    return file_res\n",
    "\n",
    "print (image_load(test_image) )"
   ]
  },
  {
   "cell_type": "code",
   "execution_count": null,
   "id": "floppy-morning",
   "metadata": {},
   "outputs": [],
   "source": [
    "# 예제6. opencv 를 이용해서 이미지를 numpy array 형태의 숫자로 변환하시오\n",
    "import os \n",
    "import re\n",
    "import cv2\n",
    "import numpy as np\n",
    "\n",
    "test_image = 'C:\\\\Users\\\\Jun\\\\Downloads\\\\resize\\\\test'\n",
    "\n",
    "def image_load(path):\n",
    "    file_list = os.listdir(path)\n",
    "    file_name = []\n",
    "    \n",
    "    for i in file_list:\n",
    "        a = int(re.sub('[^0-9]', '', i ))  #^ : not  #i가 숫자가 아니면 ''(null) 로 바꿔주는 전처리 코드\n",
    "        file_name.append(a)\n",
    "    file_name.sort()\n",
    "    \n",
    "    file_res=[]\n",
    "    for j in file_name:\n",
    "        file_res.append('%s\\\\%d.jpg' %(path,j))\n",
    "        \n",
    "    image = []\n",
    "    for k in file_res:\n",
    "        img = cv2.imread(k)\n",
    "        image.append(img)\n",
    "        \n",
    "    return np.array(image)\n",
    "\n",
    "print (image_load(test_image) )"
   ]
  },
  {
   "cell_type": "markdown",
   "id": "third-ability",
   "metadata": {},
   "source": [
    "신경망에 이미지를 넣으려면 2개의 함수가 있어야 함\n",
    "1. image_load: 이미지를 숫자로 변환해주는 함수\n",
    "2. label_load: 정답 레이블을 one encoding 해주는 함수"
   ]
  },
  {
   "cell_type": "code",
   "execution_count": null,
   "id": "bigger-shock",
   "metadata": {},
   "outputs": [],
   "source": [
    "# 훈련 데이터의 레이블을 train_label.csv로 생성하시오\n",
    "# (1 ~ 9500을 1로 하고 9501 ~ 19000을 0으로 해서 만드시오)\n",
    "\n",
    "path = 'C:\\\\Users\\\\Jun\\\\Downloads\\\\resize\\\\train\\\\train_label.csv'\n",
    "\n",
    "file = open(path, 'w')\n",
    "for i in range(0, 9500):\n",
    "    file.write( str(1) + '\\n')\n",
    "for i in range(0, 9500):\n",
    "    file.write( str(0) + '\\n')\n",
    "    \n",
    "file.close()"
   ]
  },
  {
   "cell_type": "code",
   "execution_count": null,
   "id": "intense-milton",
   "metadata": {},
   "outputs": [],
   "source": [
    "# 예제 8. 테스트 데이터 라벨을 test_label.csv로 생성하시오\n",
    "# (1 ~ 500: 정상이파리 (1), 501 ~ 1000: 질병 이파리())\n",
    "path = 'C:\\\\Users\\\\Jun\\\\Downloads\\\\resize\\\\test\\\\test_label.csv'\n",
    "\n",
    "file = open(path, 'w')\n",
    "\n",
    "for i in range(0, 500):\n",
    "    file.write( str(1) + '\\n')\n",
    "    \n",
    "for i in range(0, 500):\n",
    "    file.write( str(0) + '\\n')\n",
    "    \n",
    "file.close()"
   ]
  },
  {
   "cell_type": "code",
   "execution_count": null,
   "id": "preliminary-fantasy",
   "metadata": {},
   "outputs": [],
   "source": [
    "# 예제 9. train_label.csv의 내용을 불러오는 함수를 생성하시오\n",
    "train_label = 'C:\\\\Users\\\\Jun\\\\Downloads\\\\resize\\\\train\\\\train_label.csv'\n",
    "\n",
    "import csv\n",
    "\n",
    "def label_load(path):\n",
    "    file = open(path)\n",
    "    labeldata = csv.reader(file)\n",
    "    labellist = []\n",
    "    for i in labeldata:\n",
    "        labellist.append(i)\n",
    "    return labellist\n",
    "\n",
    "print(label_load(train_label))"
   ]
  },
  {
   "cell_type": "code",
   "execution_count": null,
   "id": "respiratory-compatibility",
   "metadata": {},
   "outputs": [],
   "source": [
    "# 예제 10. 위의 결과는 문자로 출력이 되었는데 숫자로 출력되게 하시오\n",
    "\n",
    "# 예제 9. train_label.csv의 내용을 불러오는 함수를 생성하시오\n",
    "train_label = 'C:\\\\Users\\\\Jun\\\\Downloads\\\\resize\\\\train\\\\train_label.csv'\n",
    "\n",
    "import csv\n",
    "\n",
    "def label_load(path):\n",
    "    \n",
    "    file = open(path)\n",
    "    labeldata = csv.reader(file)\n",
    "    labellist = []\n",
    "    \n",
    "    for i in labeldata:\n",
    "        labellist.append(i)\n",
    "        \n",
    "    label = np.array(labellist) # 리스트를 numpy array로 변환\n",
    "    label = label.astype(int)   # 숫자변환\n",
    "    \n",
    "    return label\n",
    "\n",
    "print(label_load(train_label))"
   ]
  },
  {
   "cell_type": "code",
   "execution_count": null,
   "id": "least-translator",
   "metadata": {},
   "outputs": [],
   "source": [
    "# 예제 11. 위의 숫자를 one hot encoding 하기 위해 아래의 코드를 연습하시오\n",
    "import numpy as np\n",
    "print(np.eye(10)[4]) # 숫자 4가 one hot encoding된다"
   ]
  },
  {
   "cell_type": "code",
   "execution_count": null,
   "id": "experienced-fetish",
   "metadata": {},
   "outputs": [],
   "source": [
    "# 예제 12. label_load 함수의 결과가 one hot encoding 된 결과로 출력되게 하시오\n",
    "train_label ='C:\\\\Users\\\\Jun\\\\Downloads\\\\resize\\\\train\\\\train_label.csv'\n",
    "\n",
    "import csv\n",
    "\n",
    "def label_load(path):\n",
    "    \n",
    "    file = open(path)\n",
    "    labeldata = csv.reader(file)\n",
    "    labellist = []\n",
    "    \n",
    "    for i in labeldata:\n",
    "        labellist.append(i)\n",
    "        \n",
    "    label = np.array(labellist) # 리스트를 numpy array로 변환\n",
    "    label = label.astype(int)   # 숫자변환\n",
    "    label = np.eye(2)[label]\n",
    "    return label\n",
    "\n",
    "print(label_load(train_label))"
   ]
  },
  {
   "cell_type": "code",
   "execution_count": null,
   "id": "printable-kentucky",
   "metadata": {},
   "outputs": [],
   "source": [
    "# 예제 13. 위의 결과는 3차원인데 신경망에서 레이블로 사용하려면 2차원이야 하므로 차원을 2차원으로 축소시켜서 출력하시오\n",
    "train_label = 'C:\\\\Users\\\\Jun\\\\Downloads\\\\resize\\\\train\\\\train_label.csv'\n",
    "\n",
    "import csv\n",
    "\n",
    "def label_load(path):\n",
    "    \n",
    "    file = open(path)\n",
    "    labeldata = csv.reader(file)\n",
    "    labellist = []\n",
    "    \n",
    "    for i in labeldata:\n",
    "        labellist.append(i)\n",
    "        \n",
    "    label = np.array(labellist) # 리스트를 numpy array로 변환\n",
    "    label = label.astype(int)   # 숫자변환\n",
    "    label = np.eye(2)[label]    # one hot encoding\n",
    "    label = label.reshape(-1, 2)\n",
    "    # (19000, 1, 2)의 차원을 (19000, 2)로 바꿔줘야 함\n",
    "    return label\n",
    "\n",
    "print(label_load(train_label))"
   ]
  },
  {
   "cell_type": "code",
   "execution_count": null,
   "id": "vanilla-safety",
   "metadata": {},
   "outputs": [],
   "source": [
    "# 예제14. 위에서 만든 함수 2개를 loader_leaf.py 로 저장하시오\n",
    "\n",
    "import csv\n",
    "\n",
    "def label_load(path):\n",
    "    \n",
    "    file = open(path)\n",
    "    labeldata = csv.reader(file)\n",
    "    labellist = []\n",
    "    \n",
    "    for i in labeldata:\n",
    "        labellist.append(i)\n",
    "        \n",
    "    label = np.array(labellist) # 리스트를 numpy array로 변환\n",
    "    label = label.astype(int)   # 숫자변환\n",
    "    label = np.eye(2)[label]    # one hot encoding\n",
    "    label = label.reshape(-1, 2)\n",
    "    # (19000, 1, 2)의 차원을 (19000, 2)로 바꿔줘야 함\n",
    "    return label\n",
    "\n",
    "def image_load(path):\n",
    "    file_list = os.listdir(path)\n",
    "    file_name = []\n",
    "    \n",
    "    for i in file_list:\n",
    "        a = int(re.sub('[^0-9]', '', i ))  #^ : not  #i가 숫자가 아니면 ''(null) 로 바꿔주는 전처리 코드\n",
    "        file_name.append(a)\n",
    "    file_name.sort()\n",
    "    \n",
    "    file_res=[]\n",
    "    for j in file_name:\n",
    "        file_res.append('%s\\\\%d.jpg' %(path,j))\n",
    "        \n",
    "    image = []\n",
    "    for k in file_res:\n",
    "        img = cv2.imread(k)\n",
    "        image.append(img)"
   ]
  },
  {
   "cell_type": "code",
   "execution_count": null,
   "id": "alpha-bulletin",
   "metadata": {},
   "outputs": [],
   "source": [
    "# 예제 15. 이파리 훈련 사진을 256 x 256에서 32 x 32로 resize하시오\n",
    "\n",
    "import  cv2\n",
    "import  os \n",
    "import  numpy  as np\n",
    "import matplotlib.pyplot as plt\n",
    "\n",
    "path = \"C:\\\\Users\\\\Jun\\\\Downloads\\\\resize\\\\train\"\n",
    "file_list = os.listdir(path)  # path 에 지정된 위치에 있는 파일들의 이름을 불러온다.\n",
    "file_list    # ['b.jpg']\n",
    "for k in file_list:  # 리스트 안에 있는 파일들을 하나씩 빼내는 코드\n",
    "    img = cv2.imread(path + '\\\\' + k)   # 수지 사진을 숫자행렬로 변경합니다.\n",
    "    width, height = img.shape[:2]  # 수지 사진 숫자 행렬에서 가로, 세로 가져온다.\n",
    "    resize_img = cv2.resize(img, (32 ,32), interpolation=cv2.INTER_CUBIC)\n",
    "    cv2.imwrite('C:\\\\Users\\\\Jun\\\\Downloads\\\\resize\\\\resize' + k, resize_img)   # resize 한 이미지를 저장합니다.\n",
    "    \n",
    "plt.imshow(resize_img)  # resize 한 수지 사진을 시각화 해라 ~\n",
    "plt.show()  "
   ]
  },
  {
   "cell_type": "code",
   "execution_count": null,
   "id": "supported-carroll",
   "metadata": {},
   "outputs": [],
   "source": [
    "# 예제 16. 이파리 테스트 사진을 256 x 256에서 32 x 32로 resize하시오\n",
    "\n",
    "import  cv2\n",
    "import  os \n",
    "import  numpy  as np\n",
    "import matplotlib.pyplot as plt\n",
    "\n",
    "path = \"C:\\\\Users\\\\Jun\\\\Downloads\\\\resize\\\\test\"\n",
    "file_list = os.listdir(path)  # path 에 지정된 위치에 있는 파일들의 이름을 불러온다.\n",
    "file_list    # ['b.jpg']\n",
    "for k in file_list:  # 리스트 안에 있는 파일들을 하나씩 빼내는 코드\n",
    "    img = cv2.imread(path + '\\\\' + k)   # 수지 사진을 숫자행렬로 변경합니다.\n",
    "                                        #\n",
    "    width, height = img.shape[:2]  # 수지 사진 숫자 행렬에서 가로, 세로 가져온다.\n",
    "    resize_img = cv2.resize(img, (32 ,32), interpolation=cv2.INTER_CUBIC)\n",
    "    cv2.imwrite('C:\\\\Users\\\\Jun\\\\Downloads\\\\resize\\\\resize' + k, resize_img)   # resize 한 이미지를 저장합니다.\n",
    "    \n",
    "plt.imshow(resize_img)  # resize 한 수지 사진을 시각화 해라 ~\n",
    "plt.show()  "
   ]
  },
  {
   "cell_type": "code",
   "execution_count": null,
   "id": "encouraging-result",
   "metadata": {},
   "outputs": [],
   "source": [
    "import loader_leaf \n",
    "\n",
    "train_image = 'C:\\\\Users\\\\Jun\\\\Downloads\\\\resize\\\\train'\n",
    "test_image = 'C:\\\\Users\\\\Jun\\\\Downloads\\\\resize\\\\test'\n",
    "train_label='C:\\\\Users\\\\Jun\\\\Downloads\\\\train_label.csv'\n",
    "test_label='C:\\\\Users\\\\Jun\\\\Downloads\\\\test_label.csv'\n",
    "\n",
    "print( loader_leaf.image_load(train_image) )\n",
    "print( loader_leaf.image_load(test_image) )\n",
    "print( loader_leaf.label_load(test_label) )\n",
    "print( loader_leaf.label_load(train_label) )"
   ]
  },
  {
   "cell_type": "code",
   "execution_count": null,
   "id": "substantial-brake",
   "metadata": {},
   "outputs": [],
   "source": [
    "# 필요한 패키지 다운로드\n",
    "import tensorflow as tf\n",
    "from tensorflow.keras.datasets.mnist import load_data\n",
    "from tensorflow.keras.models import Sequential\n",
    "from tensorflow.keras.layers import Dense\n",
    "from tensorflow.keras.utils import to_categorical\n",
    "from sklearn.model_selection import train_test_split\n",
    "tf.random.set_seed(777)\n",
    "\n",
    "train_image = 'C:\\\\Users\\\\Jun\\\\Downloads\\\\train'\n",
    "test_image = 'C:\\\\Users\\\\Jun\\\\Downloads\\\\test'\n",
    "train_label='C:\\\\Users\\\\Jun\\\\Downloads\\\\train_label.csv'\n",
    "test_label='C:\\\\Users\\\\Jun\\\\Downloads\\\\test_labe.csv'\n",
    "\n",
    "loader_leaf.image_load(train_image)\n",
    "loader_leaf.image_load(test_image)\n",
    "loader_leaf.label_load(test_label)\n",
    "loader_leaf.label_load(train_label)\n",
    "\n",
    "\n",
    "#2. mnist 데이터를 불러옴\n",
    "#(x_train, y_train), (x_test, y_test) = load_data(path='mnist.npz')\n",
    "\n",
    "#3. 정규화를 진행\n",
    "x_train, x_val, y_train, y_val = train_test_split(x_train, y_train, \n",
    "                                                  test_size = 0.3, \n",
    "                                                  random_state = 777)\n",
    "\n",
    "num_x_train = x_train.shape[0]\n",
    "num_x_val = x_val.shape[0]\n",
    "num_x_test = x_test.shape[0]\n",
    "\n",
    "x_train = (x_train.reshape((num_x_train, 28 * 28))) / 255\n",
    "x_val = (x_val.reshape((num_x_val, 28 * 28))) / 255\n",
    "x_test = (x_test.reshape((num_x_test, 28 * 28))) / 255\n",
    "\n",
    "#4. 정답을 onehot_encoding 한다.\n",
    "y_train = to_categorical(y_train)\n",
    "y_val = to_categorical(y_val)\n",
    "y_test = to_categorical(y_test)\n",
    "\n",
    "#5. 신경망 모델을 구성한다.\n",
    "model = Sequential()\n",
    "model.add(Dense(100, activation = 'sigmoid', input_shape = (784, )))\n",
    "model.add(Dense(50, activation = 'sigmoid'))\n",
    "model.add(Dense(50, activation = 'sigmoid'))\n",
    "model.add(Dense(10, activation = 'softmax'))\n",
    "\n",
    "#6. 신경망 모델을 설정한다.\n",
    "model.compile(optimizer='RMSProp', \n",
    "              loss = 'categorical_crossentropy', \n",
    "              metrics=['acc'])\n",
    "\n",
    "#7. 신경망 모델을 훈련시킨다.\n",
    "history = model.fit(x_train, y_train, \n",
    "                    epochs = 30, \n",
    "                    batch_size = 100, \n",
    "                    validation_data = (x_val, y_val))"
   ]
  },
  {
   "cell_type": "markdown",
   "id": "moved-elevation",
   "metadata": {},
   "source": [
    "# CNN(Convolution Neural Network)\n",
    "\n",
    "- 합성곱 신경망 convolution 층과 pooling층을 포함하는 신경망\n",
    "- 기존 신경망과의 차이\n",
    "    - 기존방법: 입력값 ---> Affine ---> Relu (완전 연결 계층)  \n",
    "    입력값: 사진을 사진 그대로 입력하지 않고 1차원으로 flatten시켜서 입력했음\n",
    "    - CNN: 입력값 ---> convolution ---> Relu ---> pooling ---> 완전 연결 계층  \n",
    "    입력값: 사진을 사진 그대로 입력한다  \n",
    "    convolution: 이미지의 특징을 잡아낸 어떤 이미지 생성  \n",
    "    pooling: 이미지를 선명하게 만드는 역활  \n",
    "    \n",
    "정리: 필기체 이미지 --> 28"
   ]
  },
  {
   "cell_type": "code",
   "execution_count": null,
   "id": "russian-cooling",
   "metadata": {},
   "outputs": [],
   "source": [
    "# 문제 117. 아래의 그림의 합성곱을 수행하시오\n",
    "import numpy as np\n",
    "\n",
    "x = np.array( [ [1,2,3,0],[0,1,2,3],[3,0,1,2],[2,3,0,1]])\n",
    "filter = np.array([2,0,1,0,1,2,1,0,2]).reshape(3,3)\n",
    "print(x.shape)\n",
    "print(filter)"
   ]
  },
  {
   "cell_type": "code",
   "execution_count": null,
   "id": "veterinary-slovakia",
   "metadata": {},
   "outputs": [],
   "source": [
    "# 문제 118. 입력 이미지 x에서 아래의 3x3 영역만 가져오시오\n",
    "print(x[0:3, 0:3])"
   ]
  },
  {
   "cell_type": "code",
   "execution_count": null,
   "id": "religious-check",
   "metadata": {},
   "outputs": [],
   "source": [
    "# 문제 119. 위에서 가져온 3x3영역의 원소들과 filter의 원소들과 곱셈을 하시오\n",
    "\n",
    "print(x[0:3, 0:3]*filter)"
   ]
  },
  {
   "cell_type": "code",
   "execution_count": null,
   "id": "victorian-columbus",
   "metadata": {},
   "outputs": [],
   "source": [
    "# 문제 120. 위의 곱셈을 한 결과의 원소들을 다 더한 값은 무엇인가?\n",
    "print(np.sum(x[0:3, 0:3]*filter))"
   ]
  },
  {
   "cell_type": "code",
   "execution_count": null,
   "id": "afraid-radio",
   "metadata": {},
   "outputs": [],
   "source": [
    "# 문제 121. 원본 이미지에서 아래의 영역과 filter를 곱한 원소들의 합은 얼마인가?\n",
    "\n",
    "print(np.sum(x[0:3, 1:4]*filter))"
   ]
  },
  {
   "cell_type": "code",
   "execution_count": null,
   "id": "requested-afternoon",
   "metadata": {},
   "outputs": [],
   "source": [
    "# 문제 122. 결과적으로 나와야 하는 4개의 숫자를 다 출력하시오\n",
    "print(np.sum(x[0:3, 0:3]*filter))\n",
    "print(np.sum(x[0:3, 1:4]*filter))\n",
    "print(np.sum(x[1:4, 0:3]*filter))\n",
    "print(np.sum(x[1:4, 1:4]*filter))"
   ]
  },
  {
   "cell_type": "code",
   "execution_count": null,
   "id": "authorized-trauma",
   "metadata": {
    "scrolled": true
   },
   "outputs": [],
   "source": [
    "# 문제 123. 위의 4개의 계산을 이중 루프문으로 수행하시오\n",
    "for i in range(2):\n",
    "    for j in range(2):\n",
    "        print(np.sum(x [ i: 3 + i, j:3+j] *filter ))"
   ]
  },
  {
   "cell_type": "code",
   "execution_count": null,
   "id": "compliant-coordinator",
   "metadata": {},
   "outputs": [],
   "source": [
    "# 문제 124. 위의 숫자 4개를 a라는 비어있는 리스트에 append시키시오\n",
    "a = []\n",
    "for i in range(2):\n",
    "    for j in range(2):\n",
    "        a.append(np.sum(x [ i: 3 + i, j:3+j] *filter ))\n",
    "\n",
    "print(a)"
   ]
  },
  {
   "cell_type": "code",
   "execution_count": null,
   "id": "special-indonesia",
   "metadata": {},
   "outputs": [],
   "source": [
    "# 문제 125. 위의 a리스트의 shape를 2x2로 변경하시오\n",
    "a = []\n",
    "for i in range(2):\n",
    "    for j in range(2):\n",
    "        a.append(np.sum(x [ i: 3 + i, j:3+j] *filter ))\n",
    "        \n",
    "b = np.array(a).reshape(2, 2)\n",
    "print(b)"
   ]
  },
  {
   "attachments": {
    "image.png": {
     "image/png": "[encoded data removed]"
    }
   },
   "cell_type": "markdown",
   "id": "relevant-daughter",
   "metadata": {},
   "source": [
    "문제 126. 위의 결과에서 아래의 그림의 편향 3을 더하시오\n",
    "![image.png](attachment:image.png)"
   ]
  },
  {
   "cell_type": "code",
   "execution_count": null,
   "id": "outside-carpet",
   "metadata": {},
   "outputs": [],
   "source": [
    "a = []\n",
    "for i in range(2):\n",
    "    for j in range(2):\n",
    "        a.append(np.sum(x [ i: 3 + i, j:3+j] *filter ))\n",
    "        \n",
    "b = np.array(a).reshape(2, 2)\n",
    "print(b+3)\n",
    "# 2차원 합성곱"
   ]
  },
  {
   "cell_type": "code",
   "execution_count": null,
   "id": "egyptian-samoa",
   "metadata": {},
   "outputs": [],
   "source": [
    "# 문제 127. 3차원 합성곱을 하기 전에 먼저 x2 입력 이미지에서 red행렬만 출력하시오\n",
    "x2 = np.array([[[1,2,3,0],\n",
    "                [0,1,2,3],  # --> red 행렬\n",
    "                [3,0,1,2],\n",
    "                [2,3,0,1]],\n",
    "               [[2,3,4,1],\n",
    "                [1,2,3,4],  # --> green 행렬\n",
    "                [4,1,2,3],\n",
    "                [3,4,1,2]],\n",
    "               [[3,4,5,2],  # --> blue 행렬\n",
    "                [2,3,4,5],\n",
    "                [5,2,3,4],\n",
    "                [4,5,2,3]]])\n",
    "\n",
    "filter2 = np.array([[[2,0,1],\n",
    "                     [0,1,2],\n",
    "                     [1,0,2]],\n",
    "                    [[3,1,2],\n",
    "                     [1,2,3],\n",
    "                     [2,1,3]],\n",
    "                    [[4,2,3],\n",
    "                     [2,3,4],\n",
    "                     [3,2,4]]])\n",
    "print(x2.shape)\n",
    "print(x2[0,:,:]) # x2[색상, 가로, 세로] 0: red 1: green 2:blue"
   ]
  },
  {
   "cell_type": "code",
   "execution_count": null,
   "id": "related-punch",
   "metadata": {},
   "outputs": [],
   "source": [
    "# 문제 128. 3차원 합성곱을 진행하시오\n",
    "a = []\n",
    "\n",
    "for k in range(3):   # 0, 1, 2 색상별로 합성곱을 진행하기 위해서\n",
    "    for i in range(2): \n",
    "        for j in range(2):\n",
    "            a.append(np.sum(x2 [k, i: 3 + i, j:3+j] *filter2[ k,:,:] ))\n",
    "        \n",
    "print(a)  # [ {{15, 16, 6, 15}}- red, {{46, 48, 36, 46}}- green, {{95, 98, 84, 95}}- blue]\n",
    "\n",
    "b = np.array(a).reshape(3, 4) # 3행4열로 reshape\n",
    "                              # array형식으로 하지 않으면 reshape가 되지 않음\n",
    "\n",
    "print(np.sum(b, axis=0)) # axis = 0이면 세로로 더한다. / axis = 1이면 가로로 더한다.\n",
    "c = np.sum(b, axis=0)\n",
    "print(c.reshape(2, 2)) # feature map"
   ]
  },
  {
   "cell_type": "markdown",
   "id": "valued-separate",
   "metadata": {},
   "source": [
    "3차원 원본 이미지 x에 3차원 filter를 대고 2차원 feature map을 생성한다.  \n",
    "[[156 162]  \n",
    " [126 156]]"
   ]
  },
  {
   "cell_type": "code",
   "execution_count": null,
   "id": "wrong-suspension",
   "metadata": {},
   "outputs": [],
   "source": [
    "# 문제 129. 유럽.png를 아래의 3차원 필터로 합성곱 하시오\n",
    "from PIL import Image\n",
    "import numpy as np\n",
    "import matplotlib.pyplot as plt\n",
    "import matplotlib.image as mpimg\n",
    "\n",
    "img = Image.open('C:\\\\Users\\\\Jun\\\\Downloads\\\\유럽.png')\n",
    "img_pixel = np.array(img)\n",
    "print(img_pixel.shape)"
   ]
  },
  {
   "cell_type": "code",
   "execution_count": null,
   "id": "binding-newman",
   "metadata": {},
   "outputs": [],
   "source": [
    "# 문제 130. 유럽 이미지랑 합성곱할 필터를 아래와 같이 랜덤으로 생성하시오\n",
    "filter3 = np.random.rand(5,5,3)\n",
    "plt.imshow(filter3)\n",
    "plt.show()"
   ]
  },
  {
   "cell_type": "code",
   "execution_count": null,
   "id": "australian-jamaica",
   "metadata": {},
   "outputs": [],
   "source": [
    "# 문제 131. 문제 128번에서 사용했던 3차원 합성곱 코드를 가져와서 \n",
    "# 3차원 유럽사진에 3차원 필터와 합성곱해서 feature map을 생성하시오\n",
    "print(x2.shape)  # (3, 3, 4)\n",
    "print(filter2.shape) # (3, 3, 3)\n",
    "print(img_pixel.shape) # (499, 756, 3)\n",
    "print(filter3.shape) # (5, 5, 3)\n",
    "\n",
    "row = 499 - 5 + 1\n",
    "col = 756 - 5 + 1\n",
    "\n",
    "a = []\n",
    "\n",
    " # 0, 1, 2 색상별로 합성곱을 진행하기 위해서\n",
    "for i in range(row): \n",
    "    for j in range(col):\n",
    "        b=0\n",
    "        for k in range(3):  \n",
    "            b += np.sum(img_pixel [i: 5 + i, j:5+j, k] *filter3[:,:, k] )\n",
    "        a.append(b)\n",
    "        \n",
    "c = np.array(a).reshape(495,752)"
   ]
  },
  {
   "cell_type": "code",
   "execution_count": null,
   "id": "successful-august",
   "metadata": {},
   "outputs": [],
   "source": [
    "plt.imshow(c)\n",
    "plt.show()"
   ]
  },
  {
   "cell_type": "code",
   "execution_count": null,
   "id": "black-count",
   "metadata": {},
   "outputs": [],
   "source": [
    "# 문제 132. 유럽사진의 feature map을 시각화된 것을 올리시오\n"
   ]
  }
 ],
 "metadata": {
  "kernelspec": {
   "display_name": "Python 3",
   "language": "python",
   "name": "python3"
  },
  "language_info": {
   "codemirror_mode": {
    "name": "ipython",
    "version": 3
   },
   "file_extension": ".py",
   "mimetype": "text/x-python",
   "name": "python",
   "nbconvert_exporter": "python",
   "pygments_lexer": "ipython3",
   "version": "3.8.5"
  },
  "toc": {
   "base_numbering": 1,
   "nav_menu": {},
   "number_sections": true,
   "sideBar": true,
   "skip_h1_title": false,
   "title_cell": "Table of Contents",
   "title_sidebar": "Contents",
   "toc_cell": false,
   "toc_position": {},
   "toc_section_display": true,
   "toc_window_display": false
  }
 },
 "nbformat": 4,
 "nbformat_minor": 5
}
