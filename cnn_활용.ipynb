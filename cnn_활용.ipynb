{
  "nbformat": 4,
  "nbformat_minor": 0,
  "metadata": {
    "colab": {
      "name": "cnn_활용.ipynb",
      "provenance": [],
      "collapsed_sections": [],
      "machine_shape": "hm",
      "include_colab_link": true
    },
    "kernelspec": {
      "name": "python3",
      "display_name": "Python 3"
    },
    "language_info": {
      "name": "python"
    },
    "accelerator": "GPU"
  },
  "cells": [
    {
      "cell_type": "markdown",
      "metadata": {
        "id": "view-in-github",
        "colab_type": "text"
      },
      "source": [
        "<a href=\"https://colab.research.google.com/github/unknown-jun/Deep_learning/blob/main/cnn_%ED%99%9C%EC%9A%A9.ipynb\" target=\"_parent\"><img src=\"https://colab.research.google.com/assets/colab-badge.svg\" alt=\"Open In Colab\"/></a>"
      ]
    },
    {
      "cell_type": "code",
      "metadata": {
        "colab": {
          "base_uri": "https://localhost:8080/"
        },
        "id": "mnsh2e6-4Fp7",
        "outputId": "c042a9c8-056a-4cd5-f051-653e133468ac"
      },
      "source": [
        "from google.colab import drive\n",
        "drive.mount('/content/gdrive')"
      ],
      "execution_count": 1,
      "outputs": [
        {
          "output_type": "stream",
          "text": [
            "Drive already mounted at /content/gdrive; to attempt to forcibly remount, call drive.mount(\"/content/gdrive\", force_remount=True).\n"
          ],
          "name": "stdout"
        }
      ]
    },
    {
      "cell_type": "code",
      "metadata": {
        "colab": {
          "base_uri": "https://localhost:8080/"
        },
        "id": "G4fvLdhYys4y",
        "outputId": "440f6a55-99df-47dd-9b3b-09b366b72728"
      },
      "source": [
        "\n",
        "!pip install kora\n",
        "\n",
        "from kora import console\n",
        "\n",
        "console.start()  # and click lin"
      ],
      "execution_count": 2,
      "outputs": [
        {
          "output_type": "stream",
          "text": [
            "Requirement already satisfied: kora in /usr/local/lib/python3.7/dist-packages (0.9.19)\n",
            "Requirement already satisfied: ipython in /usr/local/lib/python3.7/dist-packages (from kora) (5.5.0)\n",
            "Requirement already satisfied: fastcore in /usr/local/lib/python3.7/dist-packages (from kora) (1.3.19)\n",
            "Requirement already satisfied: pickleshare in /usr/local/lib/python3.7/dist-packages (from ipython->kora) (0.7.5)\n",
            "Requirement already satisfied: simplegeneric>0.8 in /usr/local/lib/python3.7/dist-packages (from ipython->kora) (0.8.1)\n",
            "Requirement already satisfied: prompt-toolkit<2.0.0,>=1.0.4 in /usr/local/lib/python3.7/dist-packages (from ipython->kora) (1.0.18)\n",
            "Requirement already satisfied: decorator in /usr/local/lib/python3.7/dist-packages (from ipython->kora) (4.4.2)\n",
            "Requirement already satisfied: pexpect; sys_platform != \"win32\" in /usr/local/lib/python3.7/dist-packages (from ipython->kora) (4.8.0)\n",
            "Requirement already satisfied: pygments in /usr/local/lib/python3.7/dist-packages (from ipython->kora) (2.6.1)\n",
            "Requirement already satisfied: setuptools>=18.5 in /usr/local/lib/python3.7/dist-packages (from ipython->kora) (54.1.2)\n",
            "Requirement already satisfied: traitlets>=4.2 in /usr/local/lib/python3.7/dist-packages (from ipython->kora) (5.0.5)\n",
            "Requirement already satisfied: pip in /usr/local/lib/python3.7/dist-packages (from fastcore->kora) (19.3.1)\n",
            "Requirement already satisfied: packaging in /usr/local/lib/python3.7/dist-packages (from fastcore->kora) (20.9)\n",
            "Requirement already satisfied: six>=1.9.0 in /usr/local/lib/python3.7/dist-packages (from prompt-toolkit<2.0.0,>=1.0.4->ipython->kora) (1.15.0)\n",
            "Requirement already satisfied: wcwidth in /usr/local/lib/python3.7/dist-packages (from prompt-toolkit<2.0.0,>=1.0.4->ipython->kora) (0.2.5)\n",
            "Requirement already satisfied: ptyprocess>=0.5 in /usr/local/lib/python3.7/dist-packages (from pexpect; sys_platform != \"win32\"->ipython->kora) (0.7.0)\n",
            "Requirement already satisfied: ipython-genutils in /usr/local/lib/python3.7/dist-packages (from traitlets>=4.2->ipython->kora) (0.2.0)\n",
            "Requirement already satisfied: pyparsing>=2.0.2 in /usr/local/lib/python3.7/dist-packages (from packaging->fastcore->kora) (2.4.7)\n",
            "Console URL: https://teleconsole.com/s/c8a576aaa36e225dc2bddb624213f3bcbc16b8ec\n"
          ],
          "name": "stdout"
        }
      ]
    },
    {
      "cell_type": "code",
      "metadata": {
        "id": "N4kLsZUEAFqA",
        "colab": {
          "base_uri": "https://localhost:8080/"
        },
        "outputId": "92ae5c91-65f9-4e26-ea55-89d8ec167d77"
      },
      "source": [
        "#1. 필요한 패키지 다운로드 한다.\n",
        "import tensorflow as tf\n",
        "from tensorflow.keras.datasets.mnist import load_data\n",
        "from tensorflow.keras.models import Sequential\n",
        "from tensorflow.keras.layers import Flatten,MaxPooling2D, Dense, BatchNormalization, Dropout,Conv2D,Activation\n",
        "from tensorflow.keras.utils import to_categorical\n",
        "from sklearn.model_selection import train_test_split\n",
        "tf.random.set_seed(777)\n",
        "#from loader_leaf import label_load, image_load\n",
        "import loader_leaf\n",
        "\n",
        "#2. mnist 데이터를 불러온다.\n",
        "train_image=\"/content/gdrive/MyDrive/samples4/train_resize3/\"\n",
        "test_image=\"/content/gdrive/MyDrive/samples4/test_resize2/\"\n",
        "train_label =\"/content/gdrive/MyDrive/samples4/train_label.csv\"\n",
        "test_label =\"/content/gdrive/MyDrive/samples4/test_label.csv\"\n",
        "\n",
        "x_train = loader_leaf.image_load(train_image)\n",
        "x_test = loader_leaf.image_load(test_image)\n",
        "y_train = loader_leaf.label_load(train_label)\n",
        "y_test =  loader_leaf.label_load(test_label)\n",
        "\n",
        "print(x_train.shape)\n",
        "print(x_test.shape)\n",
        "print(y_train.shape)\n",
        "print(y_test.shape)\n",
        "print(x_train.shape[1:])"
      ],
      "execution_count": 3,
      "outputs": [
        {
          "output_type": "stream",
          "text": [
            "(19000, 32, 32, 3)\n",
            "(1000, 32, 32, 3)\n",
            "(19000, 2)\n",
            "(1000, 2)\n",
            "(32, 32, 3)\n"
          ],
          "name": "stdout"
        }
      ]
    },
    {
      "cell_type": "code",
      "metadata": {
        "id": "h26LkeKOIZN-"
      },
      "source": [
        "# 3. 하이퍼 파라미터를 설정한다. \n",
        "batch_size = 100\n",
        "num_classes = 2\n",
        "epochs = 200"
      ],
      "execution_count": 4,
      "outputs": []
    },
    {
      "cell_type": "code",
      "metadata": {
        "id": "O3VfOiAREv2c"
      },
      "source": [
        "model = Sequential()\n",
        "\n",
        "# convolution 1층\n",
        "model.add(Conv2D(32, (3, 3), padding='same', input_shape=x_train.shape[1:]))\n",
        "model.add(BatchNormalization())\n",
        "model.add(Activation('relu'))\n",
        "\n",
        "# convolution 2층\n",
        "model.add(Conv2D(32, (3, 3)))\n",
        "model.add(BatchNormalization())\n",
        "model.add(Activation('relu'))\n",
        "model.add(MaxPooling2D(pool_size=(2, 2)))\n",
        "model.add(Dropout(0.2))\n",
        "\n",
        "# convolution 3층 \n",
        "model.add(Conv2D(64, (3, 3), padding='same'))\n",
        "model.add(BatchNormalization())\n",
        "model.add(Activation('relu'))\n",
        "\n",
        "# convolution 4층 \n",
        "model.add(Conv2D(64, (3, 3)))\n",
        "model.add(BatchNormalization())\n",
        "model.add(Activation('relu'))\n",
        "model.add(MaxPooling2D(pool_size=(2, 2)))\n",
        "model.add(Dropout(0.2))\n",
        "\n",
        "# 완전연결계층 1층 \n",
        "model.add(Flatten())  #  완전 연결계층에 입력할때는 flatten 시켜야합니다. \n",
        "model.add(Dense(512))  # 완전 연결계층 1층의 뉴런의 갯수를 512개 \n",
        "model.add(BatchNormalization())\n",
        "model.add(Activation('relu'))\n",
        "model.add(Dropout(0.2))\n",
        "\n",
        "# 출력층\n",
        "model.add(Dense(num_classes)) # 출력층의 뉴런의 개수 2개 (수지와 설현 분리므로)\n",
        "model.add(Activation('softmax'))\n"
      ],
      "execution_count": 5,
      "outputs": []
    },
    {
      "cell_type": "code",
      "metadata": {
        "colab": {
          "base_uri": "https://localhost:8080/"
        },
        "id": "okScH4cW9BJN",
        "outputId": "5eb6e2c1-d5d6-41a9-83f4-42251f0d421a"
      },
      "source": [
        "#2. mnist 데이터를 불러온다.\n",
        "x_train, x_val, y_train, y_val = train_test_split(x_train, y_train, \n",
        "                                                  test_size = 0.3, \n",
        "                                                  random_state = 777)\n",
        "\n",
        "x_train = x_train / 255\n",
        "x_val = x_val / 255\n",
        "x_test = x_test / 255\n",
        "\n",
        "print(x_train.shape)\n",
        "\n",
        "#6. 신경망 모델을 설정한다. \n",
        "\n",
        "model.compile(optimizer='Adam', \n",
        "              loss = 'categorical_crossentropy', \n",
        "              metrics=['acc'])\n",
        "\n",
        " #7. 신경망 모델을 훈련 시킨다. \n",
        "from tensorflow.python.keras.callbacks import EarlyStopping\n",
        "history = model.fit(x_train, y_train, \n",
        "                    epochs = 200, \n",
        "                    batch_size = 100, \n",
        "                    validation_data = (x_val, y_val), \n",
        "                    verbose=1)"
      ],
      "execution_count": 7,
      "outputs": [
        {
          "output_type": "stream",
          "text": [
            "(13300, 32, 32, 3)\n",
            "Epoch 1/200\n",
            "133/133 [==============================] - 32s 11ms/step - loss: 0.5764 - acc: 0.7351 - val_loss: 1.0182 - val_acc: 0.4998\n",
            "Epoch 2/200\n",
            "133/133 [==============================] - 1s 9ms/step - loss: 0.3216 - acc: 0.8615 - val_loss: 0.5082 - val_acc: 0.7247\n",
            "Epoch 3/200\n",
            "133/133 [==============================] - 1s 9ms/step - loss: 0.2527 - acc: 0.8915 - val_loss: 0.5139 - val_acc: 0.7288\n",
            "Epoch 4/200\n",
            "133/133 [==============================] - 1s 9ms/step - loss: 0.2273 - acc: 0.9111 - val_loss: 0.5768 - val_acc: 0.7433\n",
            "Epoch 5/200\n",
            "133/133 [==============================] - 1s 9ms/step - loss: 0.1932 - acc: 0.9200 - val_loss: 0.3172 - val_acc: 0.8712\n",
            "Epoch 6/200\n",
            "133/133 [==============================] - 1s 9ms/step - loss: 0.1717 - acc: 0.9328 - val_loss: 0.3323 - val_acc: 0.8633\n",
            "Epoch 7/200\n",
            "133/133 [==============================] - 1s 9ms/step - loss: 0.1422 - acc: 0.9435 - val_loss: 0.3485 - val_acc: 0.8667\n",
            "Epoch 8/200\n",
            "133/133 [==============================] - 1s 9ms/step - loss: 0.1307 - acc: 0.9469 - val_loss: 0.4131 - val_acc: 0.8442\n",
            "Epoch 9/200\n",
            "133/133 [==============================] - 1s 9ms/step - loss: 0.1248 - acc: 0.9512 - val_loss: 0.1991 - val_acc: 0.9205\n",
            "Epoch 10/200\n",
            "133/133 [==============================] - 1s 9ms/step - loss: 0.1060 - acc: 0.9567 - val_loss: 0.2509 - val_acc: 0.9095\n",
            "Epoch 11/200\n",
            "133/133 [==============================] - 1s 9ms/step - loss: 0.1068 - acc: 0.9598 - val_loss: 0.1606 - val_acc: 0.9354\n",
            "Epoch 12/200\n",
            "133/133 [==============================] - 1s 9ms/step - loss: 0.0878 - acc: 0.9656 - val_loss: 0.1506 - val_acc: 0.9477\n",
            "Epoch 13/200\n",
            "133/133 [==============================] - 1s 9ms/step - loss: 0.0737 - acc: 0.9738 - val_loss: 0.1704 - val_acc: 0.9419\n",
            "Epoch 14/200\n",
            "133/133 [==============================] - 1s 9ms/step - loss: 0.0757 - acc: 0.9717 - val_loss: 0.1732 - val_acc: 0.9400\n",
            "Epoch 15/200\n",
            "133/133 [==============================] - 1s 9ms/step - loss: 0.0720 - acc: 0.9719 - val_loss: 0.1327 - val_acc: 0.9516\n",
            "Epoch 16/200\n",
            "133/133 [==============================] - 1s 9ms/step - loss: 0.0718 - acc: 0.9725 - val_loss: 0.1603 - val_acc: 0.9439\n",
            "Epoch 17/200\n",
            "133/133 [==============================] - 1s 9ms/step - loss: 0.0586 - acc: 0.9783 - val_loss: 0.2697 - val_acc: 0.9191\n",
            "Epoch 18/200\n",
            "133/133 [==============================] - 1s 9ms/step - loss: 0.0667 - acc: 0.9749 - val_loss: 0.2313 - val_acc: 0.9258\n",
            "Epoch 19/200\n",
            "133/133 [==============================] - 1s 9ms/step - loss: 0.0566 - acc: 0.9790 - val_loss: 0.1300 - val_acc: 0.9554\n",
            "Epoch 20/200\n",
            "133/133 [==============================] - 1s 9ms/step - loss: 0.0403 - acc: 0.9859 - val_loss: 0.1490 - val_acc: 0.9477\n",
            "Epoch 21/200\n",
            "133/133 [==============================] - 1s 9ms/step - loss: 0.0438 - acc: 0.9847 - val_loss: 0.3395 - val_acc: 0.9144\n",
            "Epoch 22/200\n",
            "133/133 [==============================] - 1s 9ms/step - loss: 0.0497 - acc: 0.9813 - val_loss: 0.1288 - val_acc: 0.9547\n",
            "Epoch 23/200\n",
            "133/133 [==============================] - 1s 9ms/step - loss: 0.0474 - acc: 0.9841 - val_loss: 0.3951 - val_acc: 0.8928\n",
            "Epoch 24/200\n",
            "133/133 [==============================] - 1s 9ms/step - loss: 0.0452 - acc: 0.9836 - val_loss: 0.1803 - val_acc: 0.9426\n",
            "Epoch 25/200\n",
            "133/133 [==============================] - 1s 9ms/step - loss: 0.0378 - acc: 0.9868 - val_loss: 0.1650 - val_acc: 0.9442\n",
            "Epoch 26/200\n",
            "133/133 [==============================] - 1s 9ms/step - loss: 0.0532 - acc: 0.9805 - val_loss: 0.1538 - val_acc: 0.9489\n",
            "Epoch 27/200\n",
            "133/133 [==============================] - 1s 9ms/step - loss: 0.0333 - acc: 0.9896 - val_loss: 0.1795 - val_acc: 0.9414\n",
            "Epoch 28/200\n",
            "133/133 [==============================] - 1s 9ms/step - loss: 0.0262 - acc: 0.9906 - val_loss: 0.1148 - val_acc: 0.9609\n",
            "Epoch 29/200\n",
            "133/133 [==============================] - 1s 9ms/step - loss: 0.0321 - acc: 0.9881 - val_loss: 0.3392 - val_acc: 0.9091\n",
            "Epoch 30/200\n",
            "133/133 [==============================] - 1s 9ms/step - loss: 0.0346 - acc: 0.9878 - val_loss: 0.1508 - val_acc: 0.9525\n",
            "Epoch 31/200\n",
            "133/133 [==============================] - 1s 9ms/step - loss: 0.0432 - acc: 0.9836 - val_loss: 0.1329 - val_acc: 0.9612\n",
            "Epoch 32/200\n",
            "133/133 [==============================] - 1s 9ms/step - loss: 0.0247 - acc: 0.9920 - val_loss: 0.1333 - val_acc: 0.9575\n",
            "Epoch 33/200\n",
            "133/133 [==============================] - 1s 9ms/step - loss: 0.0335 - acc: 0.9888 - val_loss: 0.1625 - val_acc: 0.9507\n",
            "Epoch 34/200\n",
            "133/133 [==============================] - 1s 9ms/step - loss: 0.0247 - acc: 0.9914 - val_loss: 0.1762 - val_acc: 0.9444\n",
            "Epoch 35/200\n",
            "133/133 [==============================] - 1s 9ms/step - loss: 0.0238 - acc: 0.9915 - val_loss: 0.2074 - val_acc: 0.9433\n",
            "Epoch 36/200\n",
            "133/133 [==============================] - 1s 9ms/step - loss: 0.0264 - acc: 0.9897 - val_loss: 0.1504 - val_acc: 0.9554\n",
            "Epoch 37/200\n",
            "133/133 [==============================] - 1s 9ms/step - loss: 0.0280 - acc: 0.9896 - val_loss: 0.2470 - val_acc: 0.9330\n",
            "Epoch 38/200\n",
            "133/133 [==============================] - 1s 9ms/step - loss: 0.0196 - acc: 0.9933 - val_loss: 0.1385 - val_acc: 0.9625\n",
            "Epoch 39/200\n",
            "133/133 [==============================] - 1s 9ms/step - loss: 0.0213 - acc: 0.9924 - val_loss: 0.1685 - val_acc: 0.9488\n",
            "Epoch 40/200\n",
            "133/133 [==============================] - 1s 9ms/step - loss: 0.0228 - acc: 0.9915 - val_loss: 0.1631 - val_acc: 0.9511\n",
            "Epoch 41/200\n",
            "133/133 [==============================] - 1s 9ms/step - loss: 0.0215 - acc: 0.9926 - val_loss: 0.1911 - val_acc: 0.9465\n",
            "Epoch 42/200\n",
            "133/133 [==============================] - 1s 9ms/step - loss: 0.0250 - acc: 0.9926 - val_loss: 0.1439 - val_acc: 0.9593\n",
            "Epoch 43/200\n",
            "133/133 [==============================] - 1s 9ms/step - loss: 0.0220 - acc: 0.9920 - val_loss: 0.2358 - val_acc: 0.9361\n",
            "Epoch 44/200\n",
            "133/133 [==============================] - 1s 9ms/step - loss: 0.0354 - acc: 0.9894 - val_loss: 0.2564 - val_acc: 0.9312\n",
            "Epoch 45/200\n",
            "133/133 [==============================] - 1s 9ms/step - loss: 0.0187 - acc: 0.9942 - val_loss: 0.1773 - val_acc: 0.9488\n",
            "Epoch 46/200\n",
            "133/133 [==============================] - 1s 9ms/step - loss: 0.0218 - acc: 0.9915 - val_loss: 0.1174 - val_acc: 0.9674\n",
            "Epoch 47/200\n",
            "133/133 [==============================] - 1s 9ms/step - loss: 0.0142 - acc: 0.9950 - val_loss: 0.1744 - val_acc: 0.9460\n",
            "Epoch 48/200\n",
            "133/133 [==============================] - 1s 9ms/step - loss: 0.0204 - acc: 0.9925 - val_loss: 0.1842 - val_acc: 0.9505\n",
            "Epoch 49/200\n",
            "133/133 [==============================] - 1s 9ms/step - loss: 0.0167 - acc: 0.9949 - val_loss: 0.2227 - val_acc: 0.9368\n",
            "Epoch 50/200\n",
            "133/133 [==============================] - 1s 9ms/step - loss: 0.0152 - acc: 0.9950 - val_loss: 0.2475 - val_acc: 0.9446\n",
            "Epoch 51/200\n",
            "133/133 [==============================] - 1s 9ms/step - loss: 0.0202 - acc: 0.9934 - val_loss: 0.1518 - val_acc: 0.9560\n",
            "Epoch 52/200\n",
            "133/133 [==============================] - 1s 9ms/step - loss: 0.0173 - acc: 0.9943 - val_loss: 0.1533 - val_acc: 0.9563\n",
            "Epoch 53/200\n",
            "133/133 [==============================] - 1s 9ms/step - loss: 0.0164 - acc: 0.9949 - val_loss: 0.2099 - val_acc: 0.9463\n",
            "Epoch 54/200\n",
            "133/133 [==============================] - 1s 9ms/step - loss: 0.0149 - acc: 0.9938 - val_loss: 0.1474 - val_acc: 0.9556\n",
            "Epoch 55/200\n",
            "133/133 [==============================] - 1s 9ms/step - loss: 0.0171 - acc: 0.9936 - val_loss: 0.1286 - val_acc: 0.9660\n",
            "Epoch 56/200\n",
            "133/133 [==============================] - 1s 9ms/step - loss: 0.0284 - acc: 0.9892 - val_loss: 0.2542 - val_acc: 0.9325\n",
            "Epoch 57/200\n",
            "133/133 [==============================] - 1s 9ms/step - loss: 0.0244 - acc: 0.9914 - val_loss: 0.2137 - val_acc: 0.9393\n",
            "Epoch 58/200\n",
            "133/133 [==============================] - 1s 9ms/step - loss: 0.0188 - acc: 0.9932 - val_loss: 0.2631 - val_acc: 0.9274\n",
            "Epoch 59/200\n",
            "133/133 [==============================] - 1s 9ms/step - loss: 0.0146 - acc: 0.9949 - val_loss: 0.1346 - val_acc: 0.9616\n",
            "Epoch 60/200\n",
            "133/133 [==============================] - 1s 9ms/step - loss: 0.0168 - acc: 0.9951 - val_loss: 0.1386 - val_acc: 0.9640\n",
            "Epoch 61/200\n",
            "133/133 [==============================] - 1s 9ms/step - loss: 0.0100 - acc: 0.9969 - val_loss: 0.1385 - val_acc: 0.9632\n",
            "Epoch 62/200\n",
            "133/133 [==============================] - 1s 9ms/step - loss: 0.0102 - acc: 0.9963 - val_loss: 0.1392 - val_acc: 0.9586\n",
            "Epoch 63/200\n",
            "133/133 [==============================] - 1s 9ms/step - loss: 0.0216 - acc: 0.9933 - val_loss: 0.2733 - val_acc: 0.9277\n",
            "Epoch 64/200\n",
            "133/133 [==============================] - 1s 9ms/step - loss: 0.0094 - acc: 0.9974 - val_loss: 0.1944 - val_acc: 0.9504\n",
            "Epoch 65/200\n",
            "133/133 [==============================] - 1s 9ms/step - loss: 0.0119 - acc: 0.9960 - val_loss: 0.2183 - val_acc: 0.9332\n",
            "Epoch 66/200\n",
            "133/133 [==============================] - 1s 9ms/step - loss: 0.0104 - acc: 0.9952 - val_loss: 0.1182 - val_acc: 0.9654\n",
            "Epoch 67/200\n",
            "133/133 [==============================] - 1s 9ms/step - loss: 0.0113 - acc: 0.9958 - val_loss: 0.2307 - val_acc: 0.9502\n",
            "Epoch 68/200\n",
            "133/133 [==============================] - 1s 9ms/step - loss: 0.0129 - acc: 0.9952 - val_loss: 0.1545 - val_acc: 0.9589\n",
            "Epoch 69/200\n",
            "133/133 [==============================] - 1s 9ms/step - loss: 0.0102 - acc: 0.9969 - val_loss: 0.2374 - val_acc: 0.9447\n",
            "Epoch 70/200\n",
            "133/133 [==============================] - 1s 9ms/step - loss: 0.0133 - acc: 0.9950 - val_loss: 0.2648 - val_acc: 0.9381\n",
            "Epoch 71/200\n",
            "133/133 [==============================] - 1s 9ms/step - loss: 0.0224 - acc: 0.9934 - val_loss: 0.1487 - val_acc: 0.9595\n",
            "Epoch 72/200\n",
            "133/133 [==============================] - 1s 9ms/step - loss: 0.0103 - acc: 0.9962 - val_loss: 0.2176 - val_acc: 0.9461\n",
            "Epoch 73/200\n",
            "133/133 [==============================] - 1s 9ms/step - loss: 0.0221 - acc: 0.9928 - val_loss: 0.1680 - val_acc: 0.9574\n",
            "Epoch 74/200\n",
            "133/133 [==============================] - 1s 9ms/step - loss: 0.0167 - acc: 0.9942 - val_loss: 0.1320 - val_acc: 0.9598\n",
            "Epoch 75/200\n",
            "133/133 [==============================] - 1s 9ms/step - loss: 0.0182 - acc: 0.9946 - val_loss: 0.1118 - val_acc: 0.9702\n",
            "Epoch 76/200\n",
            "133/133 [==============================] - 1s 9ms/step - loss: 0.0132 - acc: 0.9956 - val_loss: 0.1527 - val_acc: 0.9553\n",
            "Epoch 77/200\n",
            "133/133 [==============================] - 1s 9ms/step - loss: 0.0078 - acc: 0.9970 - val_loss: 0.1153 - val_acc: 0.9661\n",
            "Epoch 78/200\n",
            "133/133 [==============================] - 1s 9ms/step - loss: 0.0114 - acc: 0.9960 - val_loss: 0.2333 - val_acc: 0.9384\n",
            "Epoch 79/200\n",
            "133/133 [==============================] - 1s 9ms/step - loss: 0.0120 - acc: 0.9962 - val_loss: 0.1541 - val_acc: 0.9547\n",
            "Epoch 80/200\n",
            "133/133 [==============================] - 1s 9ms/step - loss: 0.0092 - acc: 0.9968 - val_loss: 0.1344 - val_acc: 0.9632\n",
            "Epoch 81/200\n",
            "133/133 [==============================] - 1s 9ms/step - loss: 0.0075 - acc: 0.9978 - val_loss: 0.1543 - val_acc: 0.9614\n",
            "Epoch 82/200\n",
            "133/133 [==============================] - 1s 9ms/step - loss: 0.0082 - acc: 0.9972 - val_loss: 0.1610 - val_acc: 0.9572\n",
            "Epoch 83/200\n",
            "133/133 [==============================] - 1s 9ms/step - loss: 0.0095 - acc: 0.9966 - val_loss: 0.2375 - val_acc: 0.9451\n",
            "Epoch 84/200\n",
            "133/133 [==============================] - 1s 9ms/step - loss: 0.0109 - acc: 0.9963 - val_loss: 0.2586 - val_acc: 0.9440\n",
            "Epoch 85/200\n",
            "133/133 [==============================] - 1s 9ms/step - loss: 0.0103 - acc: 0.9962 - val_loss: 0.1574 - val_acc: 0.9649\n",
            "Epoch 86/200\n",
            "133/133 [==============================] - 1s 9ms/step - loss: 0.0080 - acc: 0.9971 - val_loss: 0.1602 - val_acc: 0.9607\n",
            "Epoch 87/200\n",
            "133/133 [==============================] - 1s 9ms/step - loss: 0.0074 - acc: 0.9975 - val_loss: 0.1421 - val_acc: 0.9626\n",
            "Epoch 88/200\n",
            "133/133 [==============================] - 1s 9ms/step - loss: 0.0096 - acc: 0.9966 - val_loss: 0.2776 - val_acc: 0.9318\n",
            "Epoch 89/200\n",
            "133/133 [==============================] - 1s 9ms/step - loss: 0.0151 - acc: 0.9952 - val_loss: 0.1798 - val_acc: 0.9568\n",
            "Epoch 90/200\n",
            "133/133 [==============================] - 1s 9ms/step - loss: 0.0083 - acc: 0.9975 - val_loss: 0.1437 - val_acc: 0.9612\n",
            "Epoch 91/200\n",
            "133/133 [==============================] - 1s 9ms/step - loss: 0.0179 - acc: 0.9939 - val_loss: 0.1856 - val_acc: 0.9505\n",
            "Epoch 92/200\n",
            "133/133 [==============================] - 1s 9ms/step - loss: 0.0078 - acc: 0.9974 - val_loss: 0.1353 - val_acc: 0.9647\n",
            "Epoch 93/200\n",
            "133/133 [==============================] - 1s 9ms/step - loss: 0.0079 - acc: 0.9970 - val_loss: 0.1110 - val_acc: 0.9721\n",
            "Epoch 94/200\n",
            "133/133 [==============================] - 1s 9ms/step - loss: 0.0096 - acc: 0.9971 - val_loss: 0.1654 - val_acc: 0.9556\n",
            "Epoch 95/200\n",
            "133/133 [==============================] - 1s 9ms/step - loss: 0.0075 - acc: 0.9974 - val_loss: 0.1766 - val_acc: 0.9507\n",
            "Epoch 96/200\n",
            "133/133 [==============================] - 1s 9ms/step - loss: 0.0075 - acc: 0.9973 - val_loss: 0.1319 - val_acc: 0.9660\n",
            "Epoch 97/200\n",
            "133/133 [==============================] - 1s 9ms/step - loss: 0.0064 - acc: 0.9979 - val_loss: 0.2872 - val_acc: 0.9384\n",
            "Epoch 98/200\n",
            "133/133 [==============================] - 1s 9ms/step - loss: 0.0130 - acc: 0.9958 - val_loss: 0.2601 - val_acc: 0.9349\n",
            "Epoch 99/200\n",
            "133/133 [==============================] - 1s 9ms/step - loss: 0.0133 - acc: 0.9950 - val_loss: 0.1575 - val_acc: 0.9577\n",
            "Epoch 100/200\n",
            "133/133 [==============================] - 1s 9ms/step - loss: 0.0178 - acc: 0.9948 - val_loss: 0.1391 - val_acc: 0.9654\n",
            "Epoch 101/200\n",
            "133/133 [==============================] - 1s 9ms/step - loss: 0.0096 - acc: 0.9972 - val_loss: 0.1517 - val_acc: 0.9581\n",
            "Epoch 102/200\n",
            "133/133 [==============================] - 1s 9ms/step - loss: 0.0060 - acc: 0.9987 - val_loss: 0.1825 - val_acc: 0.9586\n",
            "Epoch 103/200\n",
            "133/133 [==============================] - 1s 9ms/step - loss: 0.0045 - acc: 0.9988 - val_loss: 0.1288 - val_acc: 0.9653\n",
            "Epoch 104/200\n",
            "133/133 [==============================] - 1s 9ms/step - loss: 0.0063 - acc: 0.9985 - val_loss: 0.1031 - val_acc: 0.9719\n",
            "Epoch 105/200\n",
            "133/133 [==============================] - 1s 9ms/step - loss: 0.0042 - acc: 0.9987 - val_loss: 0.1743 - val_acc: 0.9581\n",
            "Epoch 106/200\n",
            "133/133 [==============================] - 1s 9ms/step - loss: 0.0061 - acc: 0.9979 - val_loss: 0.1970 - val_acc: 0.9581\n",
            "Epoch 107/200\n",
            "133/133 [==============================] - 1s 9ms/step - loss: 0.0101 - acc: 0.9968 - val_loss: 0.1844 - val_acc: 0.9502\n",
            "Epoch 108/200\n",
            "133/133 [==============================] - 1s 9ms/step - loss: 0.0195 - acc: 0.9940 - val_loss: 0.2807 - val_acc: 0.9333\n",
            "Epoch 109/200\n",
            "133/133 [==============================] - 1s 9ms/step - loss: 0.0109 - acc: 0.9968 - val_loss: 0.1726 - val_acc: 0.9605\n",
            "Epoch 110/200\n",
            "133/133 [==============================] - 1s 9ms/step - loss: 0.0062 - acc: 0.9982 - val_loss: 0.1596 - val_acc: 0.9596\n",
            "Epoch 111/200\n",
            "133/133 [==============================] - 1s 9ms/step - loss: 0.0075 - acc: 0.9978 - val_loss: 0.1353 - val_acc: 0.9639\n",
            "Epoch 112/200\n",
            "133/133 [==============================] - 1s 9ms/step - loss: 0.0077 - acc: 0.9979 - val_loss: 0.1565 - val_acc: 0.9642\n",
            "Epoch 113/200\n",
            "133/133 [==============================] - 1s 9ms/step - loss: 0.0097 - acc: 0.9967 - val_loss: 0.3718 - val_acc: 0.9184\n",
            "Epoch 114/200\n",
            "133/133 [==============================] - 1s 9ms/step - loss: 0.0087 - acc: 0.9972 - val_loss: 0.1423 - val_acc: 0.9651\n",
            "Epoch 115/200\n",
            "133/133 [==============================] - 1s 9ms/step - loss: 0.0088 - acc: 0.9972 - val_loss: 0.1749 - val_acc: 0.9593\n",
            "Epoch 116/200\n",
            "133/133 [==============================] - 1s 9ms/step - loss: 0.0060 - acc: 0.9983 - val_loss: 0.1324 - val_acc: 0.9656\n",
            "Epoch 117/200\n",
            "133/133 [==============================] - 1s 9ms/step - loss: 0.0026 - acc: 0.9993 - val_loss: 0.1469 - val_acc: 0.9667\n",
            "Epoch 118/200\n",
            "133/133 [==============================] - 1s 9ms/step - loss: 0.0083 - acc: 0.9975 - val_loss: 0.2269 - val_acc: 0.9474\n",
            "Epoch 119/200\n",
            "133/133 [==============================] - 1s 9ms/step - loss: 0.0074 - acc: 0.9980 - val_loss: 0.1634 - val_acc: 0.9586\n",
            "Epoch 120/200\n",
            "133/133 [==============================] - 1s 9ms/step - loss: 0.0089 - acc: 0.9974 - val_loss: 0.1411 - val_acc: 0.9674\n",
            "Epoch 121/200\n",
            "133/133 [==============================] - 1s 9ms/step - loss: 0.0063 - acc: 0.9979 - val_loss: 0.1428 - val_acc: 0.9656\n",
            "Epoch 122/200\n",
            "133/133 [==============================] - 1s 9ms/step - loss: 0.0040 - acc: 0.9991 - val_loss: 0.1049 - val_acc: 0.9732\n",
            "Epoch 123/200\n",
            "133/133 [==============================] - 1s 9ms/step - loss: 0.0027 - acc: 0.9991 - val_loss: 0.1445 - val_acc: 0.9679\n",
            "Epoch 124/200\n",
            "133/133 [==============================] - 1s 9ms/step - loss: 0.0039 - acc: 0.9983 - val_loss: 0.2313 - val_acc: 0.9489\n",
            "Epoch 125/200\n",
            "133/133 [==============================] - 1s 9ms/step - loss: 0.0071 - acc: 0.9975 - val_loss: 0.1844 - val_acc: 0.9584\n",
            "Epoch 126/200\n",
            "133/133 [==============================] - 1s 9ms/step - loss: 0.0076 - acc: 0.9970 - val_loss: 0.1451 - val_acc: 0.9630\n",
            "Epoch 127/200\n",
            "133/133 [==============================] - 1s 9ms/step - loss: 0.0085 - acc: 0.9979 - val_loss: 0.5959 - val_acc: 0.8616\n",
            "Epoch 128/200\n",
            "133/133 [==============================] - 1s 9ms/step - loss: 0.0070 - acc: 0.9980 - val_loss: 0.1152 - val_acc: 0.9746\n",
            "Epoch 129/200\n",
            "133/133 [==============================] - 1s 9ms/step - loss: 0.0061 - acc: 0.9983 - val_loss: 0.1806 - val_acc: 0.9577\n",
            "Epoch 130/200\n",
            "133/133 [==============================] - 1s 9ms/step - loss: 0.0072 - acc: 0.9977 - val_loss: 0.2696 - val_acc: 0.9349\n",
            "Epoch 131/200\n",
            "133/133 [==============================] - 1s 9ms/step - loss: 0.0092 - acc: 0.9974 - val_loss: 0.1476 - val_acc: 0.9679\n",
            "Epoch 132/200\n",
            "133/133 [==============================] - 1s 9ms/step - loss: 0.0061 - acc: 0.9979 - val_loss: 0.1731 - val_acc: 0.9632\n",
            "Epoch 133/200\n",
            "133/133 [==============================] - 1s 9ms/step - loss: 0.0061 - acc: 0.9977 - val_loss: 0.1895 - val_acc: 0.9623\n",
            "Epoch 134/200\n",
            "133/133 [==============================] - 1s 9ms/step - loss: 0.0064 - acc: 0.9979 - val_loss: 0.1371 - val_acc: 0.9705\n",
            "Epoch 135/200\n",
            "133/133 [==============================] - 1s 9ms/step - loss: 0.0053 - acc: 0.9983 - val_loss: 0.3437 - val_acc: 0.9128\n",
            "Epoch 136/200\n",
            "133/133 [==============================] - 1s 9ms/step - loss: 0.0097 - acc: 0.9963 - val_loss: 0.2951 - val_acc: 0.9446\n",
            "Epoch 137/200\n",
            "133/133 [==============================] - 1s 9ms/step - loss: 0.0088 - acc: 0.9968 - val_loss: 0.1718 - val_acc: 0.9607\n",
            "Epoch 138/200\n",
            "133/133 [==============================] - 1s 9ms/step - loss: 0.0066 - acc: 0.9981 - val_loss: 0.1333 - val_acc: 0.9661\n",
            "Epoch 139/200\n",
            "133/133 [==============================] - 1s 9ms/step - loss: 0.0050 - acc: 0.9985 - val_loss: 0.2050 - val_acc: 0.9512\n",
            "Epoch 140/200\n",
            "133/133 [==============================] - 1s 9ms/step - loss: 0.0117 - acc: 0.9964 - val_loss: 0.1808 - val_acc: 0.9584\n",
            "Epoch 141/200\n",
            "133/133 [==============================] - 1s 9ms/step - loss: 0.0106 - acc: 0.9970 - val_loss: 0.1802 - val_acc: 0.9556\n",
            "Epoch 142/200\n",
            "133/133 [==============================] - 1s 9ms/step - loss: 0.0070 - acc: 0.9980 - val_loss: 0.1433 - val_acc: 0.9686\n",
            "Epoch 143/200\n",
            "133/133 [==============================] - 1s 9ms/step - loss: 0.0052 - acc: 0.9984 - val_loss: 0.1454 - val_acc: 0.9674\n",
            "Epoch 144/200\n",
            "133/133 [==============================] - 1s 9ms/step - loss: 0.0064 - acc: 0.9976 - val_loss: 0.1664 - val_acc: 0.9623\n",
            "Epoch 145/200\n",
            "133/133 [==============================] - 1s 9ms/step - loss: 0.0058 - acc: 0.9984 - val_loss: 0.1281 - val_acc: 0.9693\n",
            "Epoch 146/200\n",
            "133/133 [==============================] - 1s 9ms/step - loss: 0.0049 - acc: 0.9985 - val_loss: 0.1214 - val_acc: 0.9693\n",
            "Epoch 147/200\n",
            "133/133 [==============================] - 1s 9ms/step - loss: 0.0053 - acc: 0.9990 - val_loss: 0.1685 - val_acc: 0.9598\n",
            "Epoch 148/200\n",
            "133/133 [==============================] - 1s 9ms/step - loss: 0.0066 - acc: 0.9976 - val_loss: 0.1826 - val_acc: 0.9625\n",
            "Epoch 149/200\n",
            "133/133 [==============================] - 1s 9ms/step - loss: 0.0044 - acc: 0.9988 - val_loss: 0.1361 - val_acc: 0.9691\n",
            "Epoch 150/200\n",
            "133/133 [==============================] - 1s 9ms/step - loss: 0.0057 - acc: 0.9984 - val_loss: 0.1720 - val_acc: 0.9551\n",
            "Epoch 151/200\n",
            "133/133 [==============================] - 1s 9ms/step - loss: 0.0077 - acc: 0.9973 - val_loss: 0.1529 - val_acc: 0.9642\n",
            "Epoch 152/200\n",
            "133/133 [==============================] - 1s 9ms/step - loss: 0.0079 - acc: 0.9968 - val_loss: 0.1522 - val_acc: 0.9670\n",
            "Epoch 153/200\n",
            "133/133 [==============================] - 1s 9ms/step - loss: 0.0075 - acc: 0.9976 - val_loss: 0.1608 - val_acc: 0.9621\n",
            "Epoch 154/200\n",
            "133/133 [==============================] - 1s 9ms/step - loss: 0.0095 - acc: 0.9968 - val_loss: 0.2376 - val_acc: 0.9382\n",
            "Epoch 155/200\n",
            "133/133 [==============================] - 1s 9ms/step - loss: 0.0061 - acc: 0.9981 - val_loss: 0.1752 - val_acc: 0.9565\n",
            "Epoch 156/200\n",
            "133/133 [==============================] - 1s 9ms/step - loss: 0.0024 - acc: 0.9993 - val_loss: 0.2860 - val_acc: 0.9326\n",
            "Epoch 157/200\n",
            "133/133 [==============================] - 1s 9ms/step - loss: 0.0097 - acc: 0.9957 - val_loss: 0.1419 - val_acc: 0.9686\n",
            "Epoch 158/200\n",
            "133/133 [==============================] - 1s 9ms/step - loss: 0.0040 - acc: 0.9981 - val_loss: 0.1172 - val_acc: 0.9721\n",
            "Epoch 159/200\n",
            "133/133 [==============================] - 1s 9ms/step - loss: 0.0041 - acc: 0.9986 - val_loss: 0.1248 - val_acc: 0.9674\n",
            "Epoch 160/200\n",
            "133/133 [==============================] - 1s 9ms/step - loss: 0.0078 - acc: 0.9982 - val_loss: 0.1391 - val_acc: 0.9723\n",
            "Epoch 161/200\n",
            "133/133 [==============================] - 1s 9ms/step - loss: 0.0025 - acc: 0.9991 - val_loss: 0.1271 - val_acc: 0.9744\n",
            "Epoch 162/200\n",
            "133/133 [==============================] - 1s 9ms/step - loss: 0.0018 - acc: 0.9993 - val_loss: 0.1379 - val_acc: 0.9689\n",
            "Epoch 163/200\n",
            "133/133 [==============================] - 1s 9ms/step - loss: 0.0053 - acc: 0.9980 - val_loss: 0.6340 - val_acc: 0.8858\n",
            "Epoch 164/200\n",
            "133/133 [==============================] - 1s 9ms/step - loss: 0.0045 - acc: 0.9986 - val_loss: 0.1550 - val_acc: 0.9637\n",
            "Epoch 165/200\n",
            "133/133 [==============================] - 1s 9ms/step - loss: 0.0023 - acc: 0.9994 - val_loss: 0.3474 - val_acc: 0.9237\n",
            "Epoch 166/200\n",
            "133/133 [==============================] - 1s 9ms/step - loss: 0.0038 - acc: 0.9986 - val_loss: 0.1994 - val_acc: 0.9575\n",
            "Epoch 167/200\n",
            "133/133 [==============================] - 1s 9ms/step - loss: 0.0092 - acc: 0.9968 - val_loss: 0.2019 - val_acc: 0.9584\n",
            "Epoch 168/200\n",
            "133/133 [==============================] - 1s 9ms/step - loss: 0.0048 - acc: 0.9983 - val_loss: 0.1745 - val_acc: 0.9604\n",
            "Epoch 169/200\n",
            "133/133 [==============================] - 1s 9ms/step - loss: 0.0066 - acc: 0.9980 - val_loss: 0.1584 - val_acc: 0.9637\n",
            "Epoch 170/200\n",
            "133/133 [==============================] - 1s 9ms/step - loss: 0.0030 - acc: 0.9991 - val_loss: 0.1222 - val_acc: 0.9704\n",
            "Epoch 171/200\n",
            "133/133 [==============================] - 1s 9ms/step - loss: 0.0088 - acc: 0.9976 - val_loss: 0.2458 - val_acc: 0.9442\n",
            "Epoch 172/200\n",
            "133/133 [==============================] - 1s 9ms/step - loss: 0.0055 - acc: 0.9981 - val_loss: 0.1909 - val_acc: 0.9540\n",
            "Epoch 173/200\n",
            "133/133 [==============================] - 1s 9ms/step - loss: 0.0059 - acc: 0.9982 - val_loss: 0.1894 - val_acc: 0.9563\n",
            "Epoch 174/200\n",
            "133/133 [==============================] - 1s 9ms/step - loss: 0.0122 - acc: 0.9961 - val_loss: 0.1659 - val_acc: 0.9586\n",
            "Epoch 175/200\n",
            "133/133 [==============================] - 1s 9ms/step - loss: 0.0049 - acc: 0.9987 - val_loss: 0.1545 - val_acc: 0.9679\n",
            "Epoch 176/200\n",
            "133/133 [==============================] - 1s 9ms/step - loss: 0.0032 - acc: 0.9991 - val_loss: 0.1164 - val_acc: 0.9721\n",
            "Epoch 177/200\n",
            "133/133 [==============================] - 1s 9ms/step - loss: 0.0035 - acc: 0.9989 - val_loss: 0.1429 - val_acc: 0.9635\n",
            "Epoch 178/200\n",
            "133/133 [==============================] - 1s 9ms/step - loss: 0.0021 - acc: 0.9992 - val_loss: 0.1740 - val_acc: 0.9611\n",
            "Epoch 179/200\n",
            "133/133 [==============================] - 1s 9ms/step - loss: 0.0029 - acc: 0.9987 - val_loss: 0.1462 - val_acc: 0.9663\n",
            "Epoch 180/200\n",
            "133/133 [==============================] - 1s 9ms/step - loss: 0.0067 - acc: 0.9974 - val_loss: 0.1515 - val_acc: 0.9658\n",
            "Epoch 181/200\n",
            "133/133 [==============================] - 1s 9ms/step - loss: 0.0088 - acc: 0.9977 - val_loss: 0.1119 - val_acc: 0.9726\n",
            "Epoch 182/200\n",
            "133/133 [==============================] - 1s 9ms/step - loss: 0.0040 - acc: 0.9988 - val_loss: 0.1666 - val_acc: 0.9618\n",
            "Epoch 183/200\n",
            "133/133 [==============================] - 1s 9ms/step - loss: 0.0067 - acc: 0.9972 - val_loss: 0.1847 - val_acc: 0.9589\n",
            "Epoch 184/200\n",
            "133/133 [==============================] - 1s 9ms/step - loss: 0.0021 - acc: 0.9993 - val_loss: 0.2586 - val_acc: 0.9447\n",
            "Epoch 185/200\n",
            "133/133 [==============================] - 1s 9ms/step - loss: 0.0052 - acc: 0.9983 - val_loss: 0.3570 - val_acc: 0.9316\n",
            "Epoch 186/200\n",
            "133/133 [==============================] - 1s 9ms/step - loss: 0.0065 - acc: 0.9976 - val_loss: 0.1726 - val_acc: 0.9639\n",
            "Epoch 187/200\n",
            "133/133 [==============================] - 1s 9ms/step - loss: 0.0053 - acc: 0.9984 - val_loss: 0.1211 - val_acc: 0.9714\n",
            "Epoch 188/200\n",
            "133/133 [==============================] - 1s 9ms/step - loss: 0.0028 - acc: 0.9992 - val_loss: 0.1559 - val_acc: 0.9647\n",
            "Epoch 189/200\n",
            "133/133 [==============================] - 1s 9ms/step - loss: 0.0025 - acc: 0.9992 - val_loss: 0.1377 - val_acc: 0.9693\n",
            "Epoch 190/200\n",
            "133/133 [==============================] - 1s 9ms/step - loss: 0.0014 - acc: 0.9997 - val_loss: 0.1909 - val_acc: 0.9595\n",
            "Epoch 191/200\n",
            "133/133 [==============================] - 1s 9ms/step - loss: 0.0097 - acc: 0.9968 - val_loss: 0.1443 - val_acc: 0.9691\n",
            "Epoch 192/200\n",
            "133/133 [==============================] - 1s 9ms/step - loss: 0.0035 - acc: 0.9990 - val_loss: 0.1641 - val_acc: 0.9640\n",
            "Epoch 193/200\n",
            "133/133 [==============================] - 1s 9ms/step - loss: 0.0095 - acc: 0.9976 - val_loss: 0.1266 - val_acc: 0.9700\n",
            "Epoch 194/200\n",
            "133/133 [==============================] - 1s 9ms/step - loss: 0.0017 - acc: 0.9994 - val_loss: 0.1271 - val_acc: 0.9709\n",
            "Epoch 195/200\n",
            "133/133 [==============================] - 1s 9ms/step - loss: 0.0033 - acc: 0.9990 - val_loss: 0.4479 - val_acc: 0.9311\n",
            "Epoch 196/200\n",
            "133/133 [==============================] - 1s 9ms/step - loss: 0.0053 - acc: 0.9988 - val_loss: 0.1233 - val_acc: 0.9684\n",
            "Epoch 197/200\n",
            "133/133 [==============================] - 1s 9ms/step - loss: 0.0045 - acc: 0.9988 - val_loss: 0.1487 - val_acc: 0.9682\n",
            "Epoch 198/200\n",
            "133/133 [==============================] - 1s 9ms/step - loss: 0.0048 - acc: 0.9981 - val_loss: 0.2774 - val_acc: 0.9402\n",
            "Epoch 199/200\n",
            "133/133 [==============================] - 1s 9ms/step - loss: 0.0047 - acc: 0.9984 - val_loss: 0.1384 - val_acc: 0.9670\n",
            "Epoch 200/200\n",
            "133/133 [==============================] - 1s 9ms/step - loss: 0.0035 - acc: 0.9993 - val_loss: 0.1499 - val_acc: 0.9633\n"
          ],
          "name": "stdout"
        }
      ]
    },
    {
      "cell_type": "code",
      "metadata": {
        "colab": {
          "base_uri": "https://localhost:8080/"
        },
        "id": "CQMN_KFhRDOw",
        "outputId": "dedda81f-2070-4931-9df3-e8d30b240ff2"
      },
      "source": [
        "# 8. 모델을 평가한다. \n",
        "model.evaluate(x_test, y_test)\n",
        "\n",
        "#9. 테스트 데이터의 정확도를 확인한다.\n",
        "results = model.predict(x_test)\n",
        "\n",
        "# 정확도 확인 \n",
        "import  numpy  as  np\n",
        "\n",
        "y_hat=np.argmax(results, axis=1)\n",
        "y_label=np.argmax(y_test, axis=1)\n",
        "sum(y_hat==y_label)/len(y_label)\n"
      ],
      "execution_count": 8,
      "outputs": [
        {
          "output_type": "stream",
          "text": [
            "32/32 [==============================] - 0s 4ms/step - loss: 0.1788 - acc: 0.9650\n"
          ],
          "name": "stdout"
        },
        {
          "output_type": "execute_result",
          "data": {
            "text/plain": [
              "0.965"
            ]
          },
          "metadata": {
            "tags": []
          },
          "execution_count": 8
        }
      ]
    },
    {
      "cell_type": "code",
      "metadata": {
        "colab": {
          "base_uri": "https://localhost:8080/",
          "height": 350
        },
        "id": "AOgPB2MmRIUm",
        "outputId": "33fded24-593c-4043-efb1-56259946ce16"
      },
      "source": [
        "# 시각화\n",
        "import matplotlib.pyplot as plt\n",
        "\n",
        "his_dict = history.history\n",
        "loss = his_dict['loss']\n",
        "val_loss = his_dict['val_loss'] # 검증 데이터가 있는 경우 ‘val_’ 수식어가 붙습니다.\n",
        "\n",
        "epochs = range(1, len(loss) + 1)\n",
        "fig = plt.figure(figsize = (10, 5))\n",
        "\n",
        "# 훈련 및 검증 손실 그리기\n",
        "ax1 = fig.add_subplot(1, 2, 1)\n",
        "ax1.plot(epochs, loss, color = 'blue', label = 'train_loss')\n",
        "ax1.plot(epochs, val_loss, color = 'orange', label = 'val_loss')\n",
        "ax1.set_title('train and val loss')\n",
        "ax1.set_xlabel('epochs')\n",
        "ax1.set_ylabel('loss')\n",
        "ax1.legend()\n",
        "\n",
        "acc = his_dict['acc']\n",
        "val_acc = his_dict['val_acc']\n",
        "\n",
        "# 훈련 및 검증 정확도 그리기\n",
        "ax2 = fig.add_subplot(1, 2, 2)\n",
        "ax2.plot(epochs, acc, color = 'blue', label = 'train_acc')\n",
        "ax2.plot(epochs, val_acc, color = 'orange', label = 'val_acc')\n",
        "ax2.set_title('train and val acc')\n",
        "ax2.set_xlabel('epochs')\n",
        "ax2.set_ylabel('acc')\n",
        "ax2.legend()\n",
        "\n",
        "plt.show()"
      ],
      "execution_count": 9,
      "outputs": [
        {
          "output_type": "display_data",
          "data": {
            "image/png": "[encoded data removed]",
            "text/plain": [
              "<Figure size 720x360 with 2 Axes>"
            ]
          },
          "metadata": {
            "tags": [],
            "needs_background": "light"
          }
        }
      ]
    },
    {
      "cell_type": "markdown",
      "metadata": {
        "id": "u-LUcBf9QvpU"
      },
      "source": [
        "# mnist 신경망 구성 (cnn 적용 안한것)"
      ]
    },
    {
      "cell_type": "code",
      "metadata": {
        "colab": {
          "base_uri": "https://localhost:8080/"
        },
        "id": "YpVFRSdK9VyI",
        "outputId": "830f9a21-2c24-4bbe-f761-654a08c8d708"
      },
      "source": [
        "# 1. 필요한 패키지 가져오는 코드\n",
        "import tensorflow as tf  # 텐서플로우 2.0\n",
        "from tensorflow.keras.datasets.mnist import load_data # 텐서플로우에 내장되어 있는 mmnist데이터를 가져온다.\n",
        "from tensorflow.keras.models import Sequential # 모델을 구성하는 패키지\n",
        "from tensorflow.keras.layers import Dense # 완전 연결계층을 구성하기 위한 패키지\n",
        "from tensorflow.keras.utils import to_categorical # one hot encoding 하는 모듈\n",
        "from sklearn.model_selection import train_test_split # 훈련과 검정 데이터를 분리하는 모듈\n",
        "import numpy as np\n",
        "tf.random.set_seed(777)\n",
        "\n",
        "(x_train, y_train), (x_test, y_test) = load_data(path='mnist.npz') # mnist데이터 로드\n",
        "# 훈련 데이터 6만장, 테스트 데이터 1만장\n",
        "\n",
        "# 훈련데이터를 가지고 훈련과 검정 데이터로 분리(7 : 3으로 분리)\n",
        "x_train, x_val, y_train, y_val = train_test_split(x_train, y_train, \n",
        "                                                  test_size = 0.3, \n",
        "                                                  random_state = 777)\n",
        "print(x_train.shape)\n",
        "print(x_val.shape)"
      ],
      "execution_count": 37,
      "outputs": [
        {
          "output_type": "stream",
          "text": [
            "(42000, 28, 28)\n",
            "(18000, 28, 28)\n"
          ],
          "name": "stdout"
        }
      ]
    },
    {
      "cell_type": "code",
      "metadata": {
        "id": "FYP_AH2ZSOTu"
      },
      "source": [
        "# 데이터를 정규화\n",
        "num_x_train = x_train.shape[0] # (42000, 28, 28, 1)\n",
        "num_x_val = x_val.shape[0] # 18000\n",
        "num_x_test = x_test.shape[0] #10000\n",
        "\n",
        "# 3차원 --> 2차원으로 차원 축소하고서 정규화 진행\n",
        "# 한 픽셀이 0~255 사이로 되어 있는데 이걸 0 ~ 1 사이로 변경\n",
        "x_train = (x_train.reshape((num_x_train, 28 * 28))) / 255\n",
        "x_val = (x_val.reshape((num_x_val, 28 * 28))) / 255\n",
        "x_test = (x_test.reshape((num_x_test, 28 * 28))) / 255\n",
        "# 위의 정규화 작업을 한 것과 안한 것과의 차이가 아주 큼\n",
        "\n",
        "# 하나의 숫자를 one hot encoding한다. (예: 4 ---> 0 0 0 0 1 0 0 0 0 0 )\n",
        "y_train = to_categorical(y_train) # 훈련 데이터의 레이블(정답)을 one hot encoding \n",
        "y_val = to_categorical(y_val)   # 검정 데이터의 레이블(정답)을 one hot encoding\n",
        "y_test = to_categorical(y_test) # 테스트 위의 정규화 작업을 한 것과 안한 것과의 차이가 아주 큼\n"
      ],
      "execution_count": 38,
      "outputs": []
    },
    {
      "cell_type": "code",
      "metadata": {
        "colab": {
          "base_uri": "https://localhost:8080/"
        },
        "id": "BlQ1La16Y6a8",
        "outputId": "be65e839-1bd7-47c5-af2f-fdc1041a55cc"
      },
      "source": [
        "print(x_val.shape)\n",
        "y_val.shape"
      ],
      "execution_count": 39,
      "outputs": [
        {
          "output_type": "stream",
          "text": [
            "(18000, 784)\n"
          ],
          "name": "stdout"
        },
        {
          "output_type": "execute_result",
          "data": {
            "text/plain": [
              "(18000, 10)"
            ]
          },
          "metadata": {
            "tags": []
          },
          "execution_count": 39
        }
      ]
    },
    {
      "cell_type": "code",
      "metadata": {
        "colab": {
          "base_uri": "https://localhost:8080/"
        },
        "id": "ZEwBIHkUXhuH",
        "outputId": "d4af2ad2-2c88-4b98-9119-fd1281e1d593"
      },
      "source": [
        "# 모델을 구성\n",
        "model = Sequential()\n",
        "model.add(Dense(64, activation = 'relu', input_shape = (784, )))  # 1층\n",
        "model.add(Dense(32, activation = 'relu'))    # 2층\n",
        "model.add(Dense(10, activation = 'softmax')) # 3층 출력층\n",
        "\n",
        "# 모델을 설정 ( 경차 하강법, 오차함수)\n",
        "model.compile(optimizer='adam', \n",
        "              loss = 'categorical_crossentropy', \n",
        "              metrics=['acc'])  # 학습과정에서 정확도를 보기 위함\n",
        "\n",
        "# 모델을 훈련시킴\n",
        "history = model.fit(x_train, y_train, \n",
        "                    epochs = 30,  # 30 에폭\n",
        "                    batch_size = 100, \n",
        "                    validation_data = (x_val, y_val))\n",
        "\n",
        "# 모델을 평가함 ( 오차, 정확도가 출력됨 )\n",
        "model.evaluate(x_test, y_test)\n",
        "\n",
        "# 테스트 데이터의 예측값을 출력함\n",
        "results = model.predict(x_test)\n",
        "\n",
        "# 정확도를 확인함\n",
        "y_hat = np.argmax(results, axis=1)\n",
        "y_label = np.argmax( y_test, axis = 1)\n",
        "\n",
        "print(np.sum( y_hat == y_label ) / len(y_test) )"
      ],
      "execution_count": 40,
      "outputs": [
        {
          "output_type": "stream",
          "text": [
            "Epoch 1/30\n",
            "420/420 [==============================] - 2s 3ms/step - loss: 0.8336 - acc: 0.7450 - val_loss: 0.2391 - val_acc: 0.9322\n",
            "Epoch 2/30\n",
            "420/420 [==============================] - 1s 3ms/step - loss: 0.2163 - acc: 0.9367 - val_loss: 0.1782 - val_acc: 0.9494\n",
            "Epoch 3/30\n",
            "420/420 [==============================] - 1s 3ms/step - loss: 0.1546 - acc: 0.9551 - val_loss: 0.1522 - val_acc: 0.9558\n",
            "Epoch 4/30\n",
            "420/420 [==============================] - 1s 3ms/step - loss: 0.1205 - acc: 0.9635 - val_loss: 0.1261 - val_acc: 0.9632\n",
            "Epoch 5/30\n",
            "420/420 [==============================] - 1s 3ms/step - loss: 0.0944 - acc: 0.9730 - val_loss: 0.1254 - val_acc: 0.9634\n",
            "Epoch 6/30\n",
            "420/420 [==============================] - 1s 3ms/step - loss: 0.0803 - acc: 0.9777 - val_loss: 0.1143 - val_acc: 0.9674\n",
            "Epoch 7/30\n",
            "420/420 [==============================] - 1s 3ms/step - loss: 0.0655 - acc: 0.9798 - val_loss: 0.1063 - val_acc: 0.9684\n",
            "Epoch 8/30\n",
            "420/420 [==============================] - 1s 3ms/step - loss: 0.0609 - acc: 0.9822 - val_loss: 0.1086 - val_acc: 0.9673\n",
            "Epoch 9/30\n",
            "420/420 [==============================] - 1s 3ms/step - loss: 0.0492 - acc: 0.9856 - val_loss: 0.1046 - val_acc: 0.9686\n",
            "Epoch 10/30\n",
            "420/420 [==============================] - 1s 3ms/step - loss: 0.0404 - acc: 0.9876 - val_loss: 0.1037 - val_acc: 0.9696\n",
            "Epoch 11/30\n",
            "420/420 [==============================] - 1s 3ms/step - loss: 0.0370 - acc: 0.9888 - val_loss: 0.1000 - val_acc: 0.9725\n",
            "Epoch 12/30\n",
            "420/420 [==============================] - 1s 3ms/step - loss: 0.0325 - acc: 0.9905 - val_loss: 0.1103 - val_acc: 0.9693\n",
            "Epoch 13/30\n",
            "420/420 [==============================] - 1s 3ms/step - loss: 0.0261 - acc: 0.9926 - val_loss: 0.1055 - val_acc: 0.9702\n",
            "Epoch 14/30\n",
            "420/420 [==============================] - 1s 3ms/step - loss: 0.0249 - acc: 0.9933 - val_loss: 0.1053 - val_acc: 0.9721\n",
            "Epoch 15/30\n",
            "420/420 [==============================] - 1s 3ms/step - loss: 0.0211 - acc: 0.9943 - val_loss: 0.1178 - val_acc: 0.9693\n",
            "Epoch 16/30\n",
            "420/420 [==============================] - 1s 3ms/step - loss: 0.0205 - acc: 0.9944 - val_loss: 0.1133 - val_acc: 0.9701\n",
            "Epoch 17/30\n",
            "420/420 [==============================] - 1s 3ms/step - loss: 0.0153 - acc: 0.9962 - val_loss: 0.1126 - val_acc: 0.9706\n",
            "Epoch 18/30\n",
            "420/420 [==============================] - 1s 3ms/step - loss: 0.0145 - acc: 0.9962 - val_loss: 0.1119 - val_acc: 0.9711\n",
            "Epoch 19/30\n",
            "420/420 [==============================] - 1s 3ms/step - loss: 0.0137 - acc: 0.9960 - val_loss: 0.1189 - val_acc: 0.9722\n",
            "Epoch 20/30\n",
            "420/420 [==============================] - 1s 3ms/step - loss: 0.0100 - acc: 0.9970 - val_loss: 0.1234 - val_acc: 0.9703\n",
            "Epoch 21/30\n",
            "420/420 [==============================] - 1s 3ms/step - loss: 0.0098 - acc: 0.9975 - val_loss: 0.1161 - val_acc: 0.9728\n",
            "Epoch 22/30\n",
            "420/420 [==============================] - 1s 3ms/step - loss: 0.0075 - acc: 0.9985 - val_loss: 0.1475 - val_acc: 0.9662\n",
            "Epoch 23/30\n",
            "420/420 [==============================] - 1s 3ms/step - loss: 0.0122 - acc: 0.9960 - val_loss: 0.1486 - val_acc: 0.9679\n",
            "Epoch 24/30\n",
            "420/420 [==============================] - 1s 3ms/step - loss: 0.0115 - acc: 0.9969 - val_loss: 0.1317 - val_acc: 0.9708\n",
            "Epoch 25/30\n",
            "420/420 [==============================] - 1s 3ms/step - loss: 0.0046 - acc: 0.9992 - val_loss: 0.1327 - val_acc: 0.9717\n",
            "Epoch 26/30\n",
            "420/420 [==============================] - 1s 3ms/step - loss: 0.0063 - acc: 0.9985 - val_loss: 0.1509 - val_acc: 0.9671\n",
            "Epoch 27/30\n",
            "420/420 [==============================] - 1s 3ms/step - loss: 0.0089 - acc: 0.9969 - val_loss: 0.1354 - val_acc: 0.9722\n",
            "Epoch 28/30\n",
            "420/420 [==============================] - 1s 3ms/step - loss: 0.0063 - acc: 0.9982 - val_loss: 0.1360 - val_acc: 0.9711\n",
            "Epoch 29/30\n",
            "420/420 [==============================] - 1s 3ms/step - loss: 0.0081 - acc: 0.9973 - val_loss: 0.1535 - val_acc: 0.9692\n",
            "Epoch 30/30\n",
            "420/420 [==============================] - 1s 3ms/step - loss: 0.0103 - acc: 0.9969 - val_loss: 0.1491 - val_acc: 0.9717\n",
            "313/313 [==============================] - 1s 2ms/step - loss: 0.1489 - acc: 0.9698\n",
            "0.9698\n"
          ],
          "name": "stdout"
        }
      ]
    },
    {
      "cell_type": "code",
      "metadata": {
        "colab": {
          "base_uri": "https://localhost:8080/",
          "height": 350
        },
        "id": "IOJuQ-pQYNer",
        "outputId": "4b3d28ee-b0e2-4f64-c874-b1cd58c926b0"
      },
      "source": [
        "# 시각화\n",
        "import matplotlib.pyplot as plt\n",
        "\n",
        "his_dict = history.history\n",
        "loss = his_dict['loss']\n",
        "val_loss = his_dict['val_loss'] # 검증 데이터가 있는 경우 ‘val_’ 수식어가 붙습니다.\n",
        "\n",
        "epochs = range(1, len(loss) + 1)\n",
        "fig = plt.figure(figsize = (10, 5))\n",
        "\n",
        "# 훈련 및 검증 손실 그리기\n",
        "ax1 = fig.add_subplot(1, 2, 1)\n",
        "ax1.plot(epochs, loss, color = 'blue', label = 'train_loss')\n",
        "ax1.plot(epochs, val_loss, color = 'orange', label = 'val_loss')\n",
        "ax1.set_title('train and val loss')\n",
        "ax1.set_xlabel('epochs')\n",
        "ax1.set_ylabel('loss')\n",
        "ax1.legend()\n",
        "\n",
        "acc = his_dict['acc']\n",
        "val_acc = his_dict['val_acc']\n",
        "\n",
        "# 훈련 및 검증 정확도 그리기\n",
        "ax2 = fig.add_subplot(1, 2, 2)\n",
        "ax2.plot(epochs, acc, color = 'blue', label = 'train_loss')\n",
        "ax2.plot(epochs, val_acc, color = 'orange', label = 'val_loss')\n",
        "ax2.set_title('train and val loss')\n",
        "ax2.set_xlabel('epochs')\n",
        "ax2.set_ylabel('loss')\n",
        "ax2.legend()\n",
        "\n",
        "plt.show()"
      ],
      "execution_count": 41,
      "outputs": [
        {
          "output_type": "display_data",
          "data": {
            "image/png": "[encoded data removed]",
            "text/plain": [
              "<Figure size 720x360 with 2 Axes>"
            ]
          },
          "metadata": {
            "tags": [],
            "needs_background": "light"
          }
        }
      ]
    },
    {
      "cell_type": "markdown",
      "metadata": {
        "id": "ifmx8HSxaoZk"
      },
      "source": [
        "패션 mnist"
      ]
    },
    {
      "cell_type": "code",
      "metadata": {
        "colab": {
          "base_uri": "https://localhost:8080/",
          "height": 1000
        },
        "id": "Nj19XH7TYTak",
        "outputId": "c61c96c4-edda-49fb-9763-277c03702b1e"
      },
      "source": [
        "\n",
        "from tensorflow.keras.datasets.fashion_mnist import load_data\n",
        "from tensorflow.keras.utils import to_categorical\n",
        "\n",
        "# Fashion-MNIST 데이터를 다운받습니다.\n",
        "(x_train, y_train), (x_test, y_test) = load_data()\n",
        "\n",
        "# 신경망 데이터 넣기전에 데이터 정규화( 값의 범위를 0~1 로 만들어 줍니다.)\n",
        "x_train = x_train / 255\n",
        "x_test = x_test / 255 \n",
        "\n",
        "# 라벨을 one hot encoding 해준다. \n",
        "y_train = to_categorical(y_train)\n",
        "y_test = to_categorical(y_test)\n",
        "\n",
        "# 훈련 데이터에 대한 검정을 위해 validatation 데이터를 만든다.\n",
        "# 테스트 데이터는 나중에 시험볼때 사용할 것이므로 그냥 두고\n",
        "# 훈련 데이터만 7대3 으로 분리 합니다. \n",
        "import  tensorflow as tf\n",
        "\n",
        "from sklearn.model_selection import train_test_split\n",
        "\n",
        "tf.random.set_seed(777)\n",
        "\n",
        "x_train, x_val, y_train, y_val = train_test_split(x_train, y_train, test_size = 0.3, random_state = 777)\n",
        "\n",
        "# 모델을 구성한다. \n",
        "from tensorflow.keras.models import Sequential\n",
        "from tensorflow.keras.layers import Dense, Flatten\n",
        "\n",
        "\n",
        "model = Sequential()\n",
        "model.add( Flatten(input_shape =(28,28)) )   # 완전연결계층으로 데이터 입력\n",
        "model.add(Dense(64, activation = 'relu'))  # 64개의 뉴런을 가진 1층\n",
        "model.add(Dense(32, activation = 'relu'))  # 32개의 뉴런을 가진 2층\n",
        "model.add(Dense(10, activation = 'softmax')) # 10개 뉴런을 가진 출력층\n",
        "\n",
        "# 학습과정 설정하기 \n",
        "\n",
        "model.compile(optimizer='adam', \n",
        "                    loss = 'categorical_crossentropy', \n",
        "                    metrics=['acc'])  # 모니터링할 평가지표 : acc\n",
        "\n",
        "# 모델 학습하기 \n",
        "\n",
        "history = model.fit(x_train, y_train, \n",
        "                        epochs = 30, \n",
        "                        batch_size = 128, \n",
        "                        validation_data = (x_val, y_val))\n",
        "\n",
        "# 모델 평가하기 \n",
        "model.evaluate(x_test, y_test)\n",
        "\n",
        "# 시각화\n",
        "import matplotlib.pyplot as plt\n",
        "\n",
        "his_dict = history.history\n",
        "loss = his_dict['loss']\n",
        "val_loss = his_dict['val_loss'] # 검증 데이터가 있는 경우 ‘val_’ 수식어가 붙습니다.\n",
        "\n",
        "epochs = range(1, len(loss) + 1)\n",
        "fig = plt.figure(figsize = (10, 5))\n",
        "\n",
        "# 훈련 및 검증 손실 그리기\n",
        "ax1 = fig.add_subplot(1, 2, 1)\n",
        "ax1.plot(epochs, loss, color = 'blue', label = 'train_loss')\n",
        "ax1.plot(epochs, val_loss, color = 'orange', label = 'val_loss')\n",
        "ax1.set_title('train and val loss')\n",
        "ax1.set_xlabel('epochs')\n",
        "ax1.set_ylabel('loss')\n",
        "ax1.legend()\n",
        "\n",
        "acc = his_dict['acc']\n",
        "val_acc = his_dict['val_acc']\n",
        "\n",
        "# 훈련 및 검증 정확도 그리기\n",
        "ax2 = fig.add_subplot(1, 2, 2)\n",
        "ax2.plot(epochs, acc, color = 'blue', label = 'train_loss')\n",
        "ax2.plot(epochs, val_acc, color = 'orange', label = 'val_loss')\n",
        "ax2.set_title('train and val loss')\n",
        "ax2.set_xlabel('epochs')\n",
        "ax2.set_ylabel('loss')\n",
        "ax2.legend()\n",
        "\n",
        "plt.show()\n"
      ],
      "execution_count": 42,
      "outputs": [
        {
          "output_type": "stream",
          "text": [
            "Epoch 1/30\n",
            "329/329 [==============================] - 2s 4ms/step - loss: 0.9383 - acc: 0.6838 - val_loss: 0.4868 - val_acc: 0.8342\n",
            "Epoch 2/30\n",
            "329/329 [==============================] - 1s 3ms/step - loss: 0.4555 - acc: 0.8401 - val_loss: 0.4494 - val_acc: 0.8468\n",
            "Epoch 3/30\n",
            "329/329 [==============================] - 1s 4ms/step - loss: 0.4044 - acc: 0.8618 - val_loss: 0.3994 - val_acc: 0.8611\n",
            "Epoch 4/30\n",
            "329/329 [==============================] - 1s 3ms/step - loss: 0.3759 - acc: 0.8674 - val_loss: 0.3864 - val_acc: 0.8666\n",
            "Epoch 5/30\n",
            "329/329 [==============================] - 1s 4ms/step - loss: 0.3550 - acc: 0.8737 - val_loss: 0.3653 - val_acc: 0.8688\n",
            "Epoch 6/30\n",
            "329/329 [==============================] - 1s 3ms/step - loss: 0.3421 - acc: 0.8761 - val_loss: 0.3614 - val_acc: 0.8705\n",
            "Epoch 7/30\n",
            "329/329 [==============================] - 1s 3ms/step - loss: 0.3153 - acc: 0.8873 - val_loss: 0.3437 - val_acc: 0.8749\n",
            "Epoch 8/30\n",
            "329/329 [==============================] - 1s 3ms/step - loss: 0.3122 - acc: 0.8870 - val_loss: 0.3538 - val_acc: 0.8769\n",
            "Epoch 9/30\n",
            "329/329 [==============================] - 1s 3ms/step - loss: 0.2947 - acc: 0.8917 - val_loss: 0.3369 - val_acc: 0.8784\n",
            "Epoch 10/30\n",
            "329/329 [==============================] - 1s 3ms/step - loss: 0.2944 - acc: 0.8937 - val_loss: 0.3295 - val_acc: 0.8803\n",
            "Epoch 11/30\n",
            "329/329 [==============================] - 1s 3ms/step - loss: 0.2782 - acc: 0.8988 - val_loss: 0.3366 - val_acc: 0.8788\n",
            "Epoch 12/30\n",
            "329/329 [==============================] - 1s 3ms/step - loss: 0.2847 - acc: 0.8975 - val_loss: 0.3334 - val_acc: 0.8846\n",
            "Epoch 13/30\n",
            "329/329 [==============================] - 1s 3ms/step - loss: 0.2685 - acc: 0.9012 - val_loss: 0.3414 - val_acc: 0.8794\n",
            "Epoch 14/30\n",
            "329/329 [==============================] - 1s 3ms/step - loss: 0.2640 - acc: 0.9047 - val_loss: 0.3213 - val_acc: 0.8859\n",
            "Epoch 15/30\n",
            "329/329 [==============================] - 1s 3ms/step - loss: 0.2605 - acc: 0.9059 - val_loss: 0.3198 - val_acc: 0.8863\n",
            "Epoch 16/30\n",
            "329/329 [==============================] - 1s 3ms/step - loss: 0.2528 - acc: 0.9064 - val_loss: 0.3404 - val_acc: 0.8794\n",
            "Epoch 17/30\n",
            "329/329 [==============================] - 1s 4ms/step - loss: 0.2519 - acc: 0.9063 - val_loss: 0.3325 - val_acc: 0.8872\n",
            "Epoch 18/30\n",
            "329/329 [==============================] - 1s 4ms/step - loss: 0.2384 - acc: 0.9143 - val_loss: 0.3221 - val_acc: 0.8861\n",
            "Epoch 19/30\n",
            "329/329 [==============================] - 1s 3ms/step - loss: 0.2400 - acc: 0.9117 - val_loss: 0.3329 - val_acc: 0.8846\n",
            "Epoch 20/30\n",
            "329/329 [==============================] - 1s 3ms/step - loss: 0.2404 - acc: 0.9127 - val_loss: 0.3268 - val_acc: 0.8877\n",
            "Epoch 21/30\n",
            "329/329 [==============================] - 1s 3ms/step - loss: 0.2155 - acc: 0.9210 - val_loss: 0.3313 - val_acc: 0.8874\n",
            "Epoch 22/30\n",
            "329/329 [==============================] - 1s 3ms/step - loss: 0.2317 - acc: 0.9147 - val_loss: 0.3455 - val_acc: 0.8831\n",
            "Epoch 23/30\n",
            "329/329 [==============================] - 1s 3ms/step - loss: 0.2255 - acc: 0.9163 - val_loss: 0.3600 - val_acc: 0.8702\n",
            "Epoch 24/30\n",
            "329/329 [==============================] - 1s 3ms/step - loss: 0.2172 - acc: 0.9193 - val_loss: 0.3250 - val_acc: 0.8881\n",
            "Epoch 25/30\n",
            "329/329 [==============================] - 1s 3ms/step - loss: 0.2078 - acc: 0.9227 - val_loss: 0.3265 - val_acc: 0.8881\n",
            "Epoch 26/30\n",
            "329/329 [==============================] - 1s 3ms/step - loss: 0.2078 - acc: 0.9243 - val_loss: 0.3456 - val_acc: 0.8845\n",
            "Epoch 27/30\n",
            "329/329 [==============================] - 1s 3ms/step - loss: 0.2090 - acc: 0.9232 - val_loss: 0.3337 - val_acc: 0.8876\n",
            "Epoch 28/30\n",
            "329/329 [==============================] - 1s 3ms/step - loss: 0.2046 - acc: 0.9247 - val_loss: 0.3325 - val_acc: 0.8911\n",
            "Epoch 29/30\n",
            "329/329 [==============================] - 1s 3ms/step - loss: 0.1991 - acc: 0.9257 - val_loss: 0.3359 - val_acc: 0.8874\n",
            "Epoch 30/30\n",
            "329/329 [==============================] - 1s 4ms/step - loss: 0.1966 - acc: 0.9256 - val_loss: 0.3322 - val_acc: 0.8906\n",
            "313/313 [==============================] - 1s 2ms/step - loss: 0.3707 - acc: 0.8798\n"
          ],
          "name": "stdout"
        },
        {
          "output_type": "display_data",
          "data": {
            "image/png": "[encoded data removed]",
            "text/plain": [
              "<Figure size 720x360 with 2 Axes>"
            ]
          },
          "metadata": {
            "tags": [],
            "needs_background": "light"
          }
        }
      ]
    },
    {
      "cell_type": "markdown",
      "metadata": {
        "id": "NP_E6-Atg_ya"
      },
      "source": [
        "# mnist 신경망 구성 (cnn 적용 안한것)"
      ]
    },
    {
      "cell_type": "code",
      "metadata": {
        "colab": {
          "base_uri": "https://localhost:8080/"
        },
        "id": "8onmZlcyb7zl",
        "outputId": "f7accfe7-56b2-4cc9-fe3e-eebe2dea5ab2"
      },
      "source": [
        "# 필요한 모듈을 로드\n",
        "import tensorflow as tf\n",
        "from tensorflow.keras.utils import to_categorical\n",
        "from tensorflow.keras.datasets.fashion_mnist import load_data\n",
        "from tensorflow.keras.models import Sequential, save_model\n",
        "from tensorflow.keras.layers import Dense, Dropout, Activation, Flatten\n",
        "from tensorflow.keras.layers import Conv2D, MaxPooling2D\n",
        "\n",
        "# Fashion-MNIST 데이터를 다운받습니다.\n",
        "# 정규화를 진행\n",
        "(x_train, y_train), (x_test, y_test) = load_data()\n",
        "x_train, x_test = x_train / 255.0, x_test / 255.0\n",
        "\n",
        "print(x_train.shape)"
      ],
      "execution_count": 47,
      "outputs": [
        {
          "output_type": "stream",
          "text": [
            "(60000, 28, 28)\n"
          ],
          "name": "stdout"
        }
      ]
    },
    {
      "cell_type": "code",
      "metadata": {
        "colab": {
          "base_uri": "https://localhost:8080/"
        },
        "id": "JFJCUmSrb8Ix",
        "outputId": "579e75dc-7d0b-4ac6-c57b-44d31ee4c965"
      },
      "source": [
        "x_train = x_train.reshape(-1,28,28,1) # 3차원 ---> 4차원으로 변경\n",
        "# cnn 층에 데이터를 입력할 때는 4차원으로 입력해줘야 하기 때문x_train, y_train), (x_test, y_test) = load_data()\n",
        "print(x_train.shape)"
      ],
      "execution_count": 48,
      "outputs": [
        {
          "output_type": "stream",
          "text": [
            "(60000, 28, 28, 1)\n"
          ],
          "name": "stdout"
        }
      ]
    },
    {
      "cell_type": "code",
      "metadata": {
        "colab": {
          "base_uri": "https://localhost:8080/"
        },
        "id": "t0flO3U7p9YZ",
        "outputId": "96b19e4e-e9d0-4bc3-9895-399cc4af5e56"
      },
      "source": [
        "x_train, x_test = x_train / 255.0, x_test / 255.0\n",
        "x_train = x_train.reshape(-1,28,28,1) # 3차원 ---> 4차원으로 변경\n",
        "# cnn 층에 데이터를 입력할 때는 4차원으로 입력해줘야 하기 때문\n",
        "\n",
        "# 원핫인코딩 (one-hot encoding) 처리\n",
        "y_train = to_categorical(y_train) # 훈련 데이터의 정답을 one hot encoding\n",
        "y_test = to_categorical(y_test)  # 테스트 데이터의 정답을 one hot encoding\n",
        "\n",
        "# 훈련 데이터를 훈련과 검정 데이터로 7:3으로 나눈다.\n",
        "from sklearn.model_selection import train_test_split\n",
        "x_train , x_val , y_train , y_val = train_test_split(x_train, y_train, test_size=0.3,random_state=777)\n",
        "\n",
        "# 모델을 구성함\n",
        "model = Sequential()\n",
        "model.add( Conv2D(64,kernel_size=2,input_shape=x_train.shape[1:]) ) # (28, 28, 1) conv 1층\n",
        "model.add( Conv2D(64, kernel_size=(5,5),input_shape=(28,28,1), activation='relu') )  #conv 2층\n",
        "model.add( MaxPooling2D(pool_size=(2, 2), padding='same') )\n",
        "\n",
        "model.add( Flatten() )\n",
        "\n",
        "model.add(  Dense(128, activation='relu') ) # 완전연결계층 1층\n",
        "model.add(  Dropout(0.2) )\n",
        "\n",
        "model.add(Dense(128, activation='relu') ) # 완전연결계층 2층\n",
        "model.add(  Dropout(0.2) )\n",
        "\n",
        "model.add(  Dense(32, activation='relu') ) # 완전연결 계층 3층\n",
        "model.add(  Dropout(0.2) )\n",
        "\n",
        "model.add(  Dense(10, activation='softmax') ) # 출력층 4층\n",
        "\n",
        "\n",
        "\n",
        "model.compile(optimizer='adam',\n",
        "              loss='categorical_crossentropy',\n",
        "              metrics=['accuracy'])\n",
        "\n",
        "hist = model.fit(x_train, y_train, batch_size=100 ,epochs=30, validation_data=(x_val ,y_val))"
      ],
      "execution_count": 49,
      "outputs": [
        {
          "output_type": "stream",
          "text": [
            "Epoch 1/30\n",
            "420/420 [==============================] - 4s 8ms/step - loss: 1.6364 - accuracy: 0.3760 - val_loss: 0.6244 - val_accuracy: 0.7656\n",
            "Epoch 2/30\n",
            "420/420 [==============================] - 3s 7ms/step - loss: 0.7152 - accuracy: 0.7341 - val_loss: 0.5263 - val_accuracy: 0.7972\n",
            "Epoch 3/30\n",
            "420/420 [==============================] - 3s 7ms/step - loss: 0.5691 - accuracy: 0.7865 - val_loss: 0.4363 - val_accuracy: 0.8410\n",
            "Epoch 4/30\n",
            "420/420 [==============================] - 3s 7ms/step - loss: 0.5021 - accuracy: 0.8157 - val_loss: 0.4033 - val_accuracy: 0.8521\n",
            "Epoch 5/30\n",
            "420/420 [==============================] - 3s 7ms/step - loss: 0.4721 - accuracy: 0.8308 - val_loss: 0.3687 - val_accuracy: 0.8693\n",
            "Epoch 6/30\n",
            "420/420 [==============================] - 3s 7ms/step - loss: 0.4328 - accuracy: 0.8464 - val_loss: 0.3590 - val_accuracy: 0.8688\n",
            "Epoch 7/30\n",
            "420/420 [==============================] - 3s 7ms/step - loss: 0.3982 - accuracy: 0.8555 - val_loss: 0.3355 - val_accuracy: 0.8797\n",
            "Epoch 8/30\n",
            "420/420 [==============================] - 3s 7ms/step - loss: 0.3914 - accuracy: 0.8615 - val_loss: 0.3309 - val_accuracy: 0.8807\n",
            "Epoch 9/30\n",
            "420/420 [==============================] - 3s 7ms/step - loss: 0.3678 - accuracy: 0.8657 - val_loss: 0.3254 - val_accuracy: 0.8826\n",
            "Epoch 10/30\n",
            "420/420 [==============================] - 3s 7ms/step - loss: 0.3642 - accuracy: 0.8709 - val_loss: 0.3109 - val_accuracy: 0.8865\n",
            "Epoch 11/30\n",
            "420/420 [==============================] - 3s 7ms/step - loss: 0.3459 - accuracy: 0.8758 - val_loss: 0.3270 - val_accuracy: 0.8830\n",
            "Epoch 12/30\n",
            "420/420 [==============================] - 3s 7ms/step - loss: 0.3433 - accuracy: 0.8777 - val_loss: 0.3092 - val_accuracy: 0.8894\n",
            "Epoch 13/30\n",
            "420/420 [==============================] - 3s 7ms/step - loss: 0.3341 - accuracy: 0.8823 - val_loss: 0.3059 - val_accuracy: 0.8929\n",
            "Epoch 14/30\n",
            "420/420 [==============================] - 3s 7ms/step - loss: 0.3156 - accuracy: 0.8841 - val_loss: 0.2934 - val_accuracy: 0.8956\n",
            "Epoch 15/30\n",
            "420/420 [==============================] - 3s 7ms/step - loss: 0.3097 - accuracy: 0.8900 - val_loss: 0.2874 - val_accuracy: 0.8969\n",
            "Epoch 16/30\n",
            "420/420 [==============================] - 3s 7ms/step - loss: 0.3007 - accuracy: 0.8917 - val_loss: 0.2874 - val_accuracy: 0.8973\n",
            "Epoch 17/30\n",
            "420/420 [==============================] - 3s 7ms/step - loss: 0.2952 - accuracy: 0.8952 - val_loss: 0.2977 - val_accuracy: 0.8973\n",
            "Epoch 18/30\n",
            "420/420 [==============================] - 3s 7ms/step - loss: 0.2858 - accuracy: 0.8974 - val_loss: 0.2800 - val_accuracy: 0.9034\n",
            "Epoch 19/30\n",
            "420/420 [==============================] - 3s 7ms/step - loss: 0.2707 - accuracy: 0.9020 - val_loss: 0.2821 - val_accuracy: 0.9004\n",
            "Epoch 20/30\n",
            "420/420 [==============================] - 3s 7ms/step - loss: 0.2724 - accuracy: 0.9033 - val_loss: 0.2845 - val_accuracy: 0.9011\n",
            "Epoch 21/30\n",
            "420/420 [==============================] - 3s 7ms/step - loss: 0.2635 - accuracy: 0.9064 - val_loss: 0.2735 - val_accuracy: 0.9032\n",
            "Epoch 22/30\n",
            "420/420 [==============================] - 3s 7ms/step - loss: 0.2636 - accuracy: 0.9064 - val_loss: 0.2736 - val_accuracy: 0.9053\n",
            "Epoch 23/30\n",
            "420/420 [==============================] - 3s 7ms/step - loss: 0.2577 - accuracy: 0.9091 - val_loss: 0.2702 - val_accuracy: 0.9081\n",
            "Epoch 24/30\n",
            "420/420 [==============================] - 3s 7ms/step - loss: 0.2515 - accuracy: 0.9090 - val_loss: 0.2754 - val_accuracy: 0.9041\n",
            "Epoch 25/30\n",
            "420/420 [==============================] - 3s 7ms/step - loss: 0.2464 - accuracy: 0.9118 - val_loss: 0.2771 - val_accuracy: 0.9054\n",
            "Epoch 26/30\n",
            "420/420 [==============================] - 3s 7ms/step - loss: 0.2446 - accuracy: 0.9117 - val_loss: 0.2771 - val_accuracy: 0.9071\n",
            "Epoch 27/30\n",
            "420/420 [==============================] - 3s 7ms/step - loss: 0.2346 - accuracy: 0.9147 - val_loss: 0.2695 - val_accuracy: 0.9061\n",
            "Epoch 28/30\n",
            "420/420 [==============================] - 3s 7ms/step - loss: 0.2286 - accuracy: 0.9162 - val_loss: 0.2682 - val_accuracy: 0.9102\n",
            "Epoch 29/30\n",
            "420/420 [==============================] - 3s 7ms/step - loss: 0.2256 - accuracy: 0.9200 - val_loss: 0.2790 - val_accuracy: 0.9067\n",
            "Epoch 30/30\n",
            "420/420 [==============================] - 3s 7ms/step - loss: 0.2227 - accuracy: 0.9201 - val_loss: 0.2743 - val_accuracy: 0.9072\n"
          ],
          "name": "stdout"
        }
      ]
    },
    {
      "cell_type": "code",
      "metadata": {
        "colab": {
          "base_uri": "https://localhost:8080/"
        },
        "id": "kIpfT0ytp-nm",
        "outputId": "69a7ab7c-fb28-4ef6-d520-3a5532b722dd"
      },
      "source": [
        "x_test = x_test.reshape(-1,28,28,1) # 3차원 ---> 4차원으로 변경\n",
        "# cnn 층에 데이터를 입력할 때는 4차원으로 입력해줘야 하기 때문x_train, y_train), (x_test, y_test) = load_data()\n",
        "print(x_train.shape)\n",
        "\n",
        "# 모델을 평가함 ( 오차, 정확도가 출력됨 )\n",
        "model.evaluate(x_test, y_test)\n",
        "\n",
        "# 테스트 데이터의 예측값을 출력함\n",
        "results = model.predict(x_test)\n",
        "\n",
        "# 정확도를 확인함\n",
        "y_hat = np.argmax(results, axis=1)\n",
        "y_label = np.argmax( y_test, axis = 1)\n",
        "\n",
        "print ( np.sum( y_hat == y_label ) / len(y_test) )"
      ],
      "execution_count": 50,
      "outputs": [
        {
          "output_type": "stream",
          "text": [
            "(42000, 28, 28, 1)\n",
            "313/313 [==============================] - 1s 3ms/step - loss: 0.2994 - accuracy: 0.8986\n",
            "0.8986\n"
          ],
          "name": "stdout"
        }
      ]
    }
  ]
}