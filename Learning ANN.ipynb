{
 "cells": [
  {
   "cell_type": "markdown",
   "metadata": {},
   "source": [
    "신경망을 학습시키기 위해 아랑야 하는 내용\n",
    "\n",
    "1. 오차함수: 신경망이 뭘 잘못하고 있는지 깨닫게 해주는 함수\n",
    "2. 미니 배치: 학습할 때 한꺼번에 신경망에 넣는게 아니라 몇백장씩 조금씩 신경망에 넣고 학습시키는 것을 말함\n",
    "3. 수치 미분: 오차함수의 기울기를 구해서 기울기 만큼 가중치를 갱신해주는 역할을 할 때 필요"
   ]
  },
  {
   "cell_type": "markdown",
   "metadata": {},
   "source": [
    "# 오차함수\n",
    "\n",
    "시그모이드 함수, 렐루 함수, 소프트 맥스 함수, 오차 함수\n",
    "\n",
    "- 예상값과 실제값과의 오차를 신경망에 역전파 시켜주기 위해서 필요한 함수\n",
    "- 신경망의 잘못을 깨닫게 해주는 함수\n",
    "\n",
    "1. 평균 제곱 오차 함수( mean squared error ): 회귀 분석 시 사용\n",
    "2. 교차 엔트로피 오차 함수( cross entropy error ): 분류 문제를 풀때 사용"
   ]
  },
  {
   "cell_type": "markdown",
   "metadata": {},
   "source": [
    "## 평균 제곱 오차함수\n",
    "\n",
    "$$ E = \\frac{1}{2} \\sum_k(y_k - t_k)^2 $$"
   ]
  },
  {
   "cell_type": "code",
   "execution_count": 11,
   "metadata": {},
   "outputs": [
    {
     "name": "stdout",
     "output_type": "stream",
     "text": [
      "0.09750000000000003\n"
     ]
    }
   ],
   "source": [
    "import numpy as np\n",
    "\n",
    "y = [0.1, 0.05, 0.6, 0.0, 0.05, 0.1, 0.0, 0.1, 0.0, 0.0] # 예측 숫자\n",
    "t = [0, 0, 1, 0, 0, 0, 0, 0, 0, 0] # 정답 숫자\n",
    "\n",
    "\n",
    "def mean_squared_error( y, t ):\n",
    "    return 0.5 * np.sum((np.array(y)-np.array(t))**2)\n",
    "\n",
    "print(mean_squared_error(y, t))"
   ]
  },
  {
   "cell_type": "markdown",
   "metadata": {},
   "source": [
    "문제 69. 숫자 7로 예측한 결과와 정답 숫자 2와의 오차를 구하시오"
   ]
  },
  {
   "cell_type": "code",
   "execution_count": 13,
   "metadata": {},
   "outputs": [
    {
     "name": "stdout",
     "output_type": "stream",
     "text": [
      "0.5975\n"
     ]
    }
   ],
   "source": [
    "y = [0.1, 0.05, 0.1, 0.0, 0.05, 0.1, 0.0, 0.6, 0.0, 0.0] # 예측 숫자\n",
    "t = [0, 0, 1, 0, 0, 0, 0, 0, 0, 0] # 정답 숫자\n",
    "\n",
    "def mean_squared_error( y, t ):\n",
    "    return 0.5 * np.sum((np.array(y)-np.array(t))**2)\n",
    "\n",
    "print(mean_squared_error(y, t)) # 0.5975\n",
    "# 설명: 위의 오차 0.59는 오차가 작아서 분류문제를 해결하기 위해서는 더 큰 오차로 응답 해주어야 한다.그래서 필요한 함수가 바로 교차 엔트로피 함수."
   ]
  },
  {
   "cell_type": "markdown",
   "metadata": {},
   "source": [
    "## 교차 엔트로피 함수\n",
    "\n",
    "$$E = - \\sum_kt_k\\log{y_k}$$"
   ]
  },
  {
   "cell_type": "code",
   "execution_count": 14,
   "metadata": {},
   "outputs": [
    {
     "name": "stdout",
     "output_type": "stream",
     "text": [
      "nan\n"
     ]
    },
    {
     "name": "stderr",
     "output_type": "stream",
     "text": [
      "<ipython-input-14-89c861d5cfd5>:5: RuntimeWarning: divide by zero encountered in log\n",
      "  return - np.sum(t*np.log(y))\n",
      "<ipython-input-14-89c861d5cfd5>:5: RuntimeWarning: invalid value encountered in multiply\n",
      "  return - np.sum(t*np.log(y))\n"
     ]
    }
   ],
   "source": [
    "y = [0.1, 0.05, 0.1, 0.0, 0.05, 0.1, 0.0, 0.6, 0.0, 0.0] # 예측 숫자\n",
    "t = [0, 0, 1, 0, 0, 0, 0, 0, 0, 0] # 정답 숫자\n",
    "\n",
    "def cross_entropy_error(y, t):\n",
    "    return - np.sum(t*np.log(y))\n",
    "\n",
    "print(cross_entropy_error(y, t))\n",
    "\n",
    "# 결과 = nan, ㅣog함수에 숫자 0이 들어갔기 때문에\n",
    "# log 0 은 마이너스 무한대로 발산한다."
   ]
  },
  {
   "cell_type": "code",
   "execution_count": 18,
   "metadata": {},
   "outputs": [
    {
     "name": "stdout",
     "output_type": "stream",
     "text": [
      "2.302584092994546\n"
     ]
    }
   ],
   "source": [
    "y = [0.1, 0.05, 0.1, 0.0, 0.05, 0.1, 0.0, 0.6, 0.0, 0.0] # 예측 숫자\n",
    "t = [0, 0, 1, 0, 0, 0, 0, 0, 0, 0] # 정답 숫자\n",
    "\n",
    "def cross_entropy_error(y, t):\n",
    "    delta = 1e-7  # 0.0000001 마이너스 무한대가 되지 않게 아주 작은 값을 더한다.\n",
    "    return - np.sum(t * np.log(y + delta))\n",
    "\n",
    "print(cross_entropy_error(np.array(y), np.array(t)))\n",
    "\n",
    "# 평균 제곱 오차 함수는 오차가 0.59인데 교차 엔트로피 오차 함수는 오차가 2.3으로 훨씬 큰 오차를 출력함.\n",
    "# 분류문제를 풀 때는 교차 엔트로피 오차 함수를 사용해야 함"
   ]
  },
  {
   "cell_type": "markdown",
   "metadata": {},
   "source": [
    "# 미니 배치 학습\n",
    "\"훈련 데이터 중에 일부만 골라서 학습하는 방법\"  \n",
    "\"표본을 뽑아서 학습시킨다\"  \n",
    "\n",
    "<br>\n",
    "\n",
    "3장에서는 저자가 만들어온 가중치를 인경신경망에 셋팅해서 필기체 분류 신경망을 구현을 했다면 4장은 우리가 직접 신경망을 학습 시키는 것이 목표  \n",
    "\n",
    "<br>\n",
    "\n",
    "6만장 ---------------------------> 신경망 ( 컴퓨터가 터져 버린다 )  \n",
    "6만장 중에 1장씩 입력 -------> 신경망 ( 시간이 많이 걸림 )  \n",
    "6만장 중에 100씩 입력 -------> 신경망 ( 학습시간을 빠르게 하기 위해서 )\n",
    "\n",
    "(100, 784 ) $\\odot$ ( 784, 50 ) = (100, 50 )  \n",
    "(100, 50 )  $\\odot$ ( 50, 100 ) = (100, 100)  \n",
    "(100, 100) $ \\odot$ ( 100, 10 ) = (100, 10 )\n",
    "\n",
    "<br>\n",
    "\n",
    "100장을 추출할 때 복원추출, 비복원추출 할 것이가는 크게 중요하지 않고 결국 여러번 반복해서 학습하다 보면 학습이 된다.  \n",
    "100장씩 600번 돌리는 것이 1 epoch\n",
    "\n",
    "<br>\n",
    "\n",
    "문제 70. 숫자 1 ~ 60000의 숫자 중에서 무작위로 10개를 출력하시오  "
   ]
  },
  {
   "cell_type": "code",
   "execution_count": 37,
   "metadata": {},
   "outputs": [
    {
     "data": {
      "text/plain": [
       "array([36368, 38058, 33558, 50555,  6230,   866, 50403, 22623, 18078,\n",
       "       22103])"
      ]
     },
     "execution_count": 37,
     "metadata": {},
     "output_type": "execute_result"
    }
   ],
   "source": [
    "import numpy as np\n",
    "\n",
    "np.random.choice( np.arange(60001), 10)"
   ]
  },
  {
   "cell_type": "markdown",
   "metadata": {},
   "source": [
    "문제 70. 숫자 1 ~ 60000의 숫자 중에서 100개를 랜덤 추출하시오"
   ]
  },
  {
   "cell_type": "code",
   "execution_count": 38,
   "metadata": {},
   "outputs": [
    {
     "data": {
      "text/plain": [
       "array([ 3312,  1630, 19461, 46612,  1274, 17062, 51293,   761, 32738,\n",
       "       59907, 49459, 45062, 39506, 44755, 50156, 51124, 46508, 20746,\n",
       "       13442, 40488, 18269, 15084, 55253, 11199, 19436, 19481, 32167,\n",
       "       25899, 14649, 53736, 35218, 53142, 42193, 57833, 49107, 32134,\n",
       "        2340, 45240, 42888, 57808, 34616, 54512, 24166, 32383, 21882,\n",
       "       36506, 46166, 19871, 23759, 19667, 57557, 54756, 57539, 43175,\n",
       "       44200, 40360, 37172,  4221, 32475, 57275, 13514, 15403, 13775,\n",
       "       26525, 40804, 19447, 13249, 18267, 22263, 40696, 53013, 59815,\n",
       "       48695, 10836, 51224,  7064, 31630, 34377, 54114, 48220,  8646,\n",
       "       40026, 46400, 34173, 51365, 31140, 35887, 28863, 15560, 47033,\n",
       "        9682, 42231, 36069, 12131,  3068, 38149, 23187, 46004, 49494,\n",
       "       26638])"
      ]
     },
     "execution_count": 38,
     "metadata": {},
     "output_type": "execute_result"
    }
   ],
   "source": [
    "import numpy as np\n",
    "\n",
    "np.random.choice( np.arange(60001), 100)"
   ]
  },
  {
   "cell_type": "markdown",
   "metadata": {},
   "source": [
    "문제 72. 3장에서 마지막으로 작성한 필기체 숫자 예측하는 전체 코드를 가져와서 100개를 랜덤추출하여 예측하게 할 수 있도록 코드를 수정하시오"
   ]
  },
  {
   "cell_type": "code",
   "execution_count": 43,
   "metadata": {},
   "outputs": [
    {
     "ename": "NameError",
     "evalue": "name 'predict' is not defined",
     "output_type": "error",
     "traceback": [
      "\u001b[0;31m---------------------------------------------------------------------------\u001b[0m",
      "\u001b[0;31mNameError\u001b[0m                                 Traceback (most recent call last)",
      "\u001b[0;32m<ipython-input-43-68d2d501ee6e>\u001b[0m in \u001b[0;36m<module>\u001b[0;34m\u001b[0m\n\u001b[1;32m     48\u001b[0m \u001b[0;32mfor\u001b[0m \u001b[0mi\u001b[0m \u001b[0;32min\u001b[0m \u001b[0mrange\u001b[0m\u001b[0;34m(\u001b[0m \u001b[0;36m0\u001b[0m\u001b[0;34m,\u001b[0m \u001b[0mlen\u001b[0m\u001b[0;34m(\u001b[0m\u001b[0mx\u001b[0m\u001b[0;34m)\u001b[0m\u001b[0;34m,\u001b[0m \u001b[0mbatch_size\u001b[0m \u001b[0;34m)\u001b[0m\u001b[0;34m:\u001b[0m    \u001b[0;31m# 0, 100, 200, 300, 400, ...\u001b[0m\u001b[0;34m\u001b[0m\u001b[0;34m\u001b[0m\u001b[0m\n\u001b[1;32m     49\u001b[0m     \u001b[0mbatch_mask\u001b[0m \u001b[0;34m=\u001b[0m \u001b[0mnp\u001b[0m\u001b[0;34m.\u001b[0m\u001b[0mrandom\u001b[0m\u001b[0;34m.\u001b[0m\u001b[0mchoice\u001b[0m\u001b[0;34m(\u001b[0m\u001b[0;36m60000\u001b[0m\u001b[0;34m,\u001b[0m \u001b[0;36m100\u001b[0m\u001b[0;34m)\u001b[0m\u001b[0;34m\u001b[0m\u001b[0;34m\u001b[0m\u001b[0m\n\u001b[0;32m---> 50\u001b[0;31m     \u001b[0my\u001b[0m \u001b[0;34m=\u001b[0m \u001b[0mpredict\u001b[0m\u001b[0;34m(\u001b[0m \u001b[0mnetwork\u001b[0m\u001b[0;34m,\u001b[0m \u001b[0mx\u001b[0m\u001b[0;34m[\u001b[0m\u001b[0mbatch_mask\u001b[0m\u001b[0;34m]\u001b[0m \u001b[0;34m)\u001b[0m \u001b[0;31m# x[0:100], x[100:200]\u001b[0m\u001b[0;34m\u001b[0m\u001b[0;34m\u001b[0m\u001b[0m\n\u001b[0m\u001b[1;32m     51\u001b[0m     \u001b[0my_hat\u001b[0m \u001b[0;34m=\u001b[0m \u001b[0mnp\u001b[0m\u001b[0;34m.\u001b[0m\u001b[0margmax\u001b[0m\u001b[0;34m(\u001b[0m\u001b[0my\u001b[0m\u001b[0;34m,\u001b[0m \u001b[0maxis\u001b[0m\u001b[0;34m=\u001b[0m\u001b[0;36m1\u001b[0m\u001b[0;34m)\u001b[0m   \u001b[0;31m# 100개의 예측 숫자들이 출력됨\u001b[0m\u001b[0;34m\u001b[0m\u001b[0;34m\u001b[0m\u001b[0m\n\u001b[1;32m     52\u001b[0m     \u001b[0ma\u001b[0m\u001b[0;34m.\u001b[0m\u001b[0mappend\u001b[0m\u001b[0;34m(\u001b[0m \u001b[0msum\u001b[0m\u001b[0;34m(\u001b[0m\u001b[0my_hat\u001b[0m \u001b[0;34m==\u001b[0m \u001b[0mt\u001b[0m\u001b[0;34m[\u001b[0m\u001b[0mbatch_mask\u001b[0m\u001b[0;34m]\u001b[0m\u001b[0;34m)\u001b[0m \u001b[0;34m/\u001b[0m \u001b[0;36m100\u001b[0m\u001b[0;34m)\u001b[0m \u001b[0;31m# 에측 100개와 정답 100개를 비교해서 정확도를 계산\u001b[0m\u001b[0;34m\u001b[0m\u001b[0;34m\u001b[0m\u001b[0m\n",
      "\u001b[0;31mNameError\u001b[0m: name 'predict' is not defined"
     ]
    }
   ],
   "source": [
    "import numpy as np\n",
    "import pickle\n",
    "from common import  init_network, sigmoid, softmax\n",
    "from  dataset.mnist  import  load_mnist \n",
    "\n",
    "class Three_Nn():\n",
    "    import numpy as np\n",
    "    import pickle\n",
    "    from common import  init_network, sigmoid, softmax\n",
    "    from  dataset.mnist  import  load_mnist \n",
    "    \n",
    "    #  1. 데이터를 불러옵니다. ( 얀르쿤 교수님이 만든 필기체 데이터)\n",
    "    def get_data(self):\n",
    "        (x_train, t_train), (x_test, t_test) = load_mnist(flatten=True, normalize=True,  one_hot_label=False) \n",
    "        return  x_train, t_train \n",
    "\n",
    "    def predict(self, network, x):\n",
    "    # 2. 가중치와 바이어스 값을 불러옵니다. (저자가 미리 학습 시킨 가중치와 바이어스)\n",
    "        # network = init_network()\n",
    "        w1, w2, w3 = network['W1'], network['W2'], network['W3']\n",
    "        b1, b2, b3 = network['b1'], network['b2'], network['b3']\n",
    "\n",
    "        # 3. 신경망을 구성합니다. \n",
    "        # 0층\n",
    "        # x = x_train[0:100]  # 일단 10개의 필기체 데이터를 구성합니다. \n",
    "\n",
    "        # 1층\n",
    "        y = np.dot(x,w1) + b1\n",
    "        y_hat = sigmoid(y)\n",
    "\n",
    "        # 2층\n",
    "        z = np.dot(y_hat, w2) + b2\n",
    "        z_hat = sigmoid(z)\n",
    "\n",
    "        # 3층\n",
    "        k = np.dot(z_hat, w3) + b3\n",
    "        k_hat =  softmax(k)\n",
    "        return k_hat\n",
    "\n",
    "n1 = Three_Nn() # 객체화시킨다 설계도 가지고 제품을 만든다.\n",
    "\n",
    "x,t = n1.get_data() # 테스트 데이터와 테스트 데이터의 정답을 불러오는 코드\n",
    "network = init_network() # 저자가 만들어온 가중치와 바이어스를 불러오는 코드\n",
    "a = []\n",
    "batch_size = 100\n",
    "accuracy_cnt = 0\n",
    "\n",
    "for i in range( 0, len(x), batch_size ):    # 0, 100, 200, 300, 400, ...\n",
    "    batch_mask = np.random.choice(60000, 100)\n",
    "    y = predict( network, x[batch_mask] ) # x[0:100], x[100:200]\n",
    "    y_hat = np.argmax(y, axis=1)   # 100개의 예측 숫자들이 출력됨\n",
    "    a.append( sum(y_hat == t[batch_mask]) / 100) # 에측 100개와 정답 100개를 비교해서 정확도를 계산\n",
    "print( a )  # 600개의 정확도가 들어있다."
   ]
  },
  {
   "cell_type": "markdown",
   "metadata": {},
   "source": [
    "# 수치 미분\n",
    "\n",
    "신경망을 학습 시킬때 가중치를 갱신해주기 위해서 미분이 필요함 ( 가중치 = 가중치 - 기울기 )  \n",
    "\n",
    "<br>\n",
    "\n",
    "$$\\frac{df(x)}{dx} = \\lim_{h \\to 0} \\frac{f(x+h)-f(x)}{h}$$"
   ]
  },
  {
   "cell_type": "code",
   "execution_count": 44,
   "metadata": {},
   "outputs": [
    {
     "name": "stdout",
     "output_type": "stream",
     "text": [
      "0.0\n"
     ]
    }
   ],
   "source": [
    "def numerical_diff(f, x):\n",
    "    h = 10e-50  # 0에 가까워지는 숫자르 ㄹ표현\n",
    "    return ( f(x+h)-f(x) )/h\n",
    "\n",
    "def f(x):\n",
    "    return 2 * x ** 2 + 2\n",
    "\n",
    "print( numerical_diff(f, 4) )\n",
    "# 정확한 미분은 컴퓨터로 구현할 수가 없다.\n",
    "# 컴퓨터로 구현하면 분모가 0이 되어버려서 계산이 되지 않는다."
   ]
  },
  {
   "cell_type": "markdown",
   "metadata": {},
   "source": [
    "도함수 공식: \n",
    "\n",
    "$$\\lim_{h \\to 0} \\frac {f(x+h)-f(x-h)}{(x + h) - (x - h)} = \\lim_{h \\to 0} \\frac {f(x+h)-f(x-h)}{2 \\times h}  $$"
   ]
  },
  {
   "cell_type": "code",
   "execution_count": 48,
   "metadata": {},
   "outputs": [
    {
     "name": "stdout",
     "output_type": "stream",
     "text": [
      "15.999999999998238\n"
     ]
    }
   ],
   "source": [
    "def numerical_diff(f, x):\n",
    "    h = 0.0001 # 극한값을 구현\n",
    "    return ( f(x+h)-f(x-h) )/(2*h)\n",
    "\n",
    "def f(x):\n",
    "    return 2 * x ** 2 + 2\n",
    "\n",
    "print( numerical_diff(f, 4) )\n",
    "# 정확한 미분은 컴퓨터로 구현할 수가 없다.\n",
    "# 컴퓨터로 구현하면 분모가 0이 되어버려서 계산이 되지 않는다."
   ]
  },
  {
   "cell_type": "markdown",
   "metadata": {},
   "source": [
    "문제 73. 위에서 만든 미분 함수를 이용해서 아래의 함수를 미분해서 기울기를 구해서 x = 6일때의 미분계수를 구하시오  \n",
    "$$f(x) = 3 x^4 + 2x^3 + 6x^2 + 7$$"
   ]
  },
  {
   "cell_type": "code",
   "execution_count": 49,
   "metadata": {},
   "outputs": [
    {
     "name": "stdout",
     "output_type": "stream",
     "text": [
      "2880.0000007368\n"
     ]
    }
   ],
   "source": [
    "def numerical_diff(f, x):\n",
    "    h = 0.0001 # 극한값을 구현\n",
    "    return ( f(x+h)-f(x-h) )/(2*h)\n",
    "\n",
    "def f(x):\n",
    "    return 3 * x ** 4 + 2 * x **3 + 6 * x ** 2 + 7\n",
    "\n",
    "print( numerical_diff(f, 6) )\n",
    "# 정확한 미분은 컴퓨터로 구현할 수가 없다.\n",
    "# 컴퓨터로 구현하면 분모가 0이 되어버려서 계산이 되지 않는다."
   ]
  }
 ],
 "metadata": {
  "kernelspec": {
   "display_name": "Python 3",
   "language": "python",
   "name": "python3"
  },
  "language_info": {
   "codemirror_mode": {
    "name": "ipython",
    "version": 3
   },
   "file_extension": ".py",
   "mimetype": "text/x-python",
   "name": "python",
   "nbconvert_exporter": "python",
   "pygments_lexer": "ipython3",
   "version": "3.8.5"
  },
  "toc": {
   "base_numbering": 1,
   "nav_menu": {},
   "number_sections": true,
   "sideBar": true,
   "skip_h1_title": false,
   "title_cell": "Table of Contents",
   "title_sidebar": "Contents",
   "toc_cell": false,
   "toc_position": {},
   "toc_section_display": true,
   "toc_window_display": false
  }
 },
 "nbformat": 4,
 "nbformat_minor": 4
}
